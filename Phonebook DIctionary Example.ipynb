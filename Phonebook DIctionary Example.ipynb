{
 "cells": [
  {
   "cell_type": "code",
   "execution_count": null,
   "id": "581d5d8b",
   "metadata": {},
   "outputs": [],
   "source": []
  },
  {
   "cell_type": "markdown",
   "id": "689ca89e",
   "metadata": {},
   "source": [
    "###### Excercise. Create a program that creates a phonebook dictionary with user input names stored as the keys and their phone numbers as their values. The program must also display all records, and delete a particular record asked by the user to delete."
   ]
  },
  {
   "cell_type": "code",
   "execution_count": 1,
   "id": "24f7ba70",
   "metadata": {},
   "outputs": [
    {
     "name": "stdout",
     "output_type": "stream",
     "text": [
      "Enter total no. of people: 3\n",
      "Enter Name: Parv\n",
      "Enter Phone Number: 123456789\n",
      "Enter Name: Hari\n",
      "Enter Phone Number: 246813579\n",
      "Enter Name: Ram\n",
      "Enter Phone Number: 214365879\n",
      "Parv \t 123456789\n",
      "Hari \t 246813579\n",
      "Ram \t 214365879\n",
      "Enter name: Ram\n",
      "Phone number of Ram = 214365879\n",
      "Enter name: Ram\n",
      "Name   Phone\n",
      "Parv   123456789\n",
      "Hari   246813579\n"
     ]
    }
   ],
   "source": [
    "phonebook = dict()\n",
    "n = int(input(\"Enter total no. of people: \"))\n",
    "for i in range(n):\n",
    "    a = input(\"Enter Name: \")\n",
    "    b = input(\"Enter Phone Number: \")\n",
    "    phonebook[a] = b\n",
    "\n",
    "d = list(phonebook.keys())\n",
    "for i in d:\n",
    "    print(i, \"\\t\", phonebook[i])\n",
    "\n",
    "\n",
    "search = input(\"Enter name: \")\n",
    "d = list(phonebook.keys())\n",
    "for i in d:\n",
    "    if i == search:\n",
    "        print(\"Phone number of\", search, \"=\", phonebook[i])\n",
    "\n",
    "delete = input(\"Enter name: \")\n",
    "del phonebook[delete]\n",
    "d = list(phonebook.keys())\n",
    "print(\"Name   Phone\")\n",
    "for i in d:\n",
    "    print(i, \" \", phonebook[i])"
   ]
  }
 ],
 "metadata": {
  "kernelspec": {
   "display_name": "Python 3",
   "language": "python",
   "name": "python3"
  },
  "language_info": {
   "codemirror_mode": {
    "name": "ipython",
    "version": 3
   },
   "file_extension": ".py",
   "mimetype": "text/x-python",
   "name": "python",
   "nbconvert_exporter": "python",
   "pygments_lexer": "ipython3",
   "version": "3.8.8"
  },
  "latex_envs": {
   "LaTeX_envs_menu_present": true,
   "autoclose": false,
   "autocomplete": true,
   "bibliofile": "biblio.bib",
   "cite_by": "apalike",
   "current_citInitial": 1,
   "eqLabelWithNumbers": true,
   "eqNumInitial": 1,
   "hotkeys": {
    "equation": "Ctrl-E",
    "itemize": "Ctrl-I"
   },
   "labels_anchors": false,
   "latex_user_defs": false,
   "report_style_numbering": false,
   "user_envs_cfg": false
  },
  "toc": {
   "base_numbering": 1,
   "nav_menu": {},
   "number_sections": true,
   "sideBar": true,
   "skip_h1_title": false,
   "title_cell": "Table of Contents",
   "title_sidebar": "Contents",
   "toc_cell": false,
   "toc_position": {},
   "toc_section_display": true,
   "toc_window_display": false
  },
  "varInspector": {
   "cols": {
    "lenName": 16,
    "lenType": 16,
    "lenVar": 40
   },
   "kernels_config": {
    "python": {
     "delete_cmd_postfix": "",
     "delete_cmd_prefix": "del ",
     "library": "var_list.py",
     "varRefreshCmd": "print(var_dic_list())"
    },
    "r": {
     "delete_cmd_postfix": ") ",
     "delete_cmd_prefix": "rm(",
     "library": "var_list.r",
     "varRefreshCmd": "cat(var_dic_list()) "
    }
   },
   "types_to_exclude": [
    "module",
    "function",
    "builtin_function_or_method",
    "instance",
    "_Feature"
   ],
   "window_display": false
  }
 },
 "nbformat": 4,
 "nbformat_minor": 5
}
