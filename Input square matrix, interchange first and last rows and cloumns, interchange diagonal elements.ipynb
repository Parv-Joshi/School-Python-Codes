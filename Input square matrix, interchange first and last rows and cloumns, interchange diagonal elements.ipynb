{
 "cells": [
  {
   "cell_type": "markdown",
   "id": "f05dec53",
   "metadata": {},
   "source": [
    "###### Excercise. Create a program that asks the user to input a square matrix, display it, interchange its first and last column, interchange its first and last row, and interchange its major and minor diagonal elements."
   ]
  },
  {
   "cell_type": "markdown",
   "id": "023de854",
   "metadata": {},
   "source": [
    "A = matrix, n = number of rows = number of columns"
   ]
  },
  {
   "cell_type": "code",
   "execution_count": 1,
   "id": "2e8dc12f",
   "metadata": {},
   "outputs": [],
   "source": [
    "def input_matrix():\n",
    "    global A, n\n",
    "    n = int(input(\"Enter no. of rows/columns: \"))\n",
    "    A = [[0 for col in range(n)] for row in range(n)]\n",
    "    print(\"Enter\", n * n, \"elements:\")\n",
    "    for i in range(n):\n",
    "        for j in range(n):\n",
    "            A[i][j] = int(\n",
    "                input(f\"Enter element at row {i+1} and column {j+1}: \"))\n",
    "    print()"
   ]
  },
  {
   "cell_type": "code",
   "execution_count": 2,
   "id": "2b65d914",
   "metadata": {},
   "outputs": [],
   "source": [
    "def display_matrix(A, n):\n",
    "    for i in range(n):\n",
    "        for j in range(n):\n",
    "            print(A[i][j], \"\\t\", end=' ')\n",
    "        print()\n",
    "    print()"
   ]
  },
  {
   "cell_type": "code",
   "execution_count": 3,
   "id": "d44a91db",
   "metadata": {},
   "outputs": [],
   "source": [
    "def Intercange_1st_and_last_row(A, n):\n",
    "    for i in range(n):\n",
    "        A[0][i], A[n - 1][i] = A[n - 1][i], A[0][i]\n",
    "    print(\"After interchangeing 1st and last rows: \")\n",
    "    for i in range(n):\n",
    "        for j in range(n):\n",
    "            print(A[i][j], \"\\t\", end=' ')\n",
    "        print()"
   ]
  },
  {
   "cell_type": "code",
   "execution_count": 4,
   "id": "c508537d",
   "metadata": {},
   "outputs": [],
   "source": [
    "def Intercange_1st_and_last_column(A, n):\n",
    "    for j in range(n):\n",
    "        A[j][0], A[j][n - 1] = A[j][n - 1], A[j][0]\n",
    "    print(\"After interchangeing 1st and last columns: \")\n",
    "    for i in range(n):\n",
    "        for j in range(n):\n",
    "            print(A[i][j], \"\\t\", end=' ')\n",
    "        print()"
   ]
  },
  {
   "cell_type": "code",
   "execution_count": 5,
   "id": "872c41d1",
   "metadata": {},
   "outputs": [],
   "source": [
    "def Intercange_diagonal_elements(A, n):\n",
    "    for i in range(n):\n",
    "        A[i][i], A[i][n - 1 - i] = A[i][n - 1 - i], A[i][i]\n",
    "    print(\"After interchangeing diagonal elements: \")\n",
    "    for i in range(n):\n",
    "        for j in range(n):\n",
    "            print(A[i][j], \"\\t\", end=' ')\n",
    "        print()"
   ]
  },
  {
   "cell_type": "code",
   "execution_count": 6,
   "id": "ecf1e6b4",
   "metadata": {},
   "outputs": [],
   "source": [
    "def main():\n",
    "    choice = 0\n",
    "    while choice != 6:\n",
    "        print(\"\\n--------------- Main Menu ---------------\")\n",
    "        print(\"1. Input Matrix\")\n",
    "        print(\"2. Dispaly the matrix\")\n",
    "        print(\"3. Interchange 1st and last row\")\n",
    "        print(\"4. Interchange 1st and last column\")\n",
    "        print(\"5. Interchange diagonal elements\")\n",
    "        print(\"6. Exit\")\n",
    "        print(\"-----------------------------------------\\n\")\n",
    "        choice = int(input(\"Enter your choice: \"))\n",
    "        if choice == 1:\n",
    "            input_matrix()\n",
    "        elif choice == 2:\n",
    "            display_matrix(A, n)\n",
    "        elif choice == 3:\n",
    "            Intercange_1st_and_last_row(A, n)\n",
    "        elif choice == 4:\n",
    "            Intercange_1st_and_last_column(A, n)\n",
    "        elif choice == 5:\n",
    "            Intercange_diagonal_elements(A, n)\n",
    "        elif choice == 6:\n",
    "            print(\"Ending the program.\")\n",
    "        else:\n",
    "            print(\"Invalid Choice.\")"
   ]
  },
  {
   "cell_type": "code",
   "execution_count": 7,
   "id": "4c28dbca",
   "metadata": {},
   "outputs": [
    {
     "name": "stdout",
     "output_type": "stream",
     "text": [
      "\n",
      "--------------- Main Menu ---------------\n",
      "1. Input Matrix\n",
      "2. Dispaly the matrix\n",
      "3. Interchange 1st and last row\n",
      "4. Interchange 1st and last column\n",
      "5. Interchange diagonal elements\n",
      "6. Exit\n",
      "-----------------------------------------\n",
      "\n",
      "Enter your choice: 1\n",
      "Enter no. of rows/columns: 3\n",
      "Enter 9 elements:\n",
      "Enter element at row 1 and column 1: 1\n",
      "Enter element at row 1 and column 2: 2\n",
      "Enter element at row 1 and column 3: 3\n",
      "Enter element at row 2 and column 1: 4\n",
      "Enter element at row 2 and column 2: 5\n",
      "Enter element at row 2 and column 3: 6\n",
      "Enter element at row 3 and column 1: 7\n",
      "Enter element at row 3 and column 2: 8\n",
      "Enter element at row 3 and column 3: 9\n",
      "\n",
      "\n",
      "--------------- Main Menu ---------------\n",
      "1. Input Matrix\n",
      "2. Dispaly the matrix\n",
      "3. Interchange 1st and last row\n",
      "4. Interchange 1st and last column\n",
      "5. Interchange diagonal elements\n",
      "6. Exit\n",
      "-----------------------------------------\n",
      "\n",
      "Enter your choice: 2\n",
      "1 \t 2 \t 3 \t \n",
      "4 \t 5 \t 6 \t \n",
      "7 \t 8 \t 9 \t \n",
      "\n",
      "\n",
      "--------------- Main Menu ---------------\n",
      "1. Input Matrix\n",
      "2. Dispaly the matrix\n",
      "3. Interchange 1st and last row\n",
      "4. Interchange 1st and last column\n",
      "5. Interchange diagonal elements\n",
      "6. Exit\n",
      "-----------------------------------------\n",
      "\n",
      "Enter your choice: 3\n",
      "After interchangeing 1st and last rows: \n",
      "7 \t 8 \t 9 \t \n",
      "4 \t 5 \t 6 \t \n",
      "1 \t 2 \t 3 \t \n",
      "\n",
      "--------------- Main Menu ---------------\n",
      "1. Input Matrix\n",
      "2. Dispaly the matrix\n",
      "3. Interchange 1st and last row\n",
      "4. Interchange 1st and last column\n",
      "5. Interchange diagonal elements\n",
      "6. Exit\n",
      "-----------------------------------------\n",
      "\n",
      "Enter your choice: 4\n",
      "After interchangeing 1st and last columns: \n",
      "9 \t 8 \t 7 \t \n",
      "6 \t 5 \t 4 \t \n",
      "3 \t 2 \t 1 \t \n",
      "\n",
      "--------------- Main Menu ---------------\n",
      "1. Input Matrix\n",
      "2. Dispaly the matrix\n",
      "3. Interchange 1st and last row\n",
      "4. Interchange 1st and last column\n",
      "5. Interchange diagonal elements\n",
      "6. Exit\n",
      "-----------------------------------------\n",
      "\n",
      "Enter your choice: 5\n",
      "After interchangeing diagonal elements: \n",
      "7 \t 8 \t 9 \t \n",
      "6 \t 5 \t 4 \t \n",
      "1 \t 2 \t 3 \t \n",
      "\n",
      "--------------- Main Menu ---------------\n",
      "1. Input Matrix\n",
      "2. Dispaly the matrix\n",
      "3. Interchange 1st and last row\n",
      "4. Interchange 1st and last column\n",
      "5. Interchange diagonal elements\n",
      "6. Exit\n",
      "-----------------------------------------\n",
      "\n",
      "Enter your choice: 6\n",
      "Ending the program.\n"
     ]
    }
   ],
   "source": [
    "main()"
   ]
  }
 ],
 "metadata": {
  "kernelspec": {
   "display_name": "Python 3",
   "language": "python",
   "name": "python3"
  },
  "language_info": {
   "codemirror_mode": {
    "name": "ipython",
    "version": 3
   },
   "file_extension": ".py",
   "mimetype": "text/x-python",
   "name": "python",
   "nbconvert_exporter": "python",
   "pygments_lexer": "ipython3",
   "version": "3.8.8"
  },
  "latex_envs": {
   "LaTeX_envs_menu_present": true,
   "autoclose": false,
   "autocomplete": true,
   "bibliofile": "biblio.bib",
   "cite_by": "apalike",
   "current_citInitial": 1,
   "eqLabelWithNumbers": true,
   "eqNumInitial": 1,
   "hotkeys": {
    "equation": "Ctrl-E",
    "itemize": "Ctrl-I"
   },
   "labels_anchors": false,
   "latex_user_defs": false,
   "report_style_numbering": false,
   "user_envs_cfg": false
  },
  "toc": {
   "base_numbering": 1,
   "nav_menu": {},
   "number_sections": true,
   "sideBar": true,
   "skip_h1_title": false,
   "title_cell": "Table of Contents",
   "title_sidebar": "Contents",
   "toc_cell": false,
   "toc_position": {},
   "toc_section_display": true,
   "toc_window_display": false
  },
  "varInspector": {
   "cols": {
    "lenName": 16,
    "lenType": 16,
    "lenVar": 40
   },
   "kernels_config": {
    "python": {
     "delete_cmd_postfix": "",
     "delete_cmd_prefix": "del ",
     "library": "var_list.py",
     "varRefreshCmd": "print(var_dic_list())"
    },
    "r": {
     "delete_cmd_postfix": ") ",
     "delete_cmd_prefix": "rm(",
     "library": "var_list.r",
     "varRefreshCmd": "cat(var_dic_list()) "
    }
   },
   "types_to_exclude": [
    "module",
    "function",
    "builtin_function_or_method",
    "instance",
    "_Feature"
   ],
   "window_display": false
  }
 },
 "nbformat": 4,
 "nbformat_minor": 5
}
