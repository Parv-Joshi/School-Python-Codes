{
 "cells": [
  {
   "cell_type": "markdown",
   "id": "ed32cd79",
   "metadata": {},
   "source": [
    "###### Excercise: Create a program that inputs a string, and displays the frequency and percentage of occurance of an alphanumeric character in that string."
   ]
  },
  {
   "cell_type": "code",
   "execution_count": 1,
   "id": "36bb624c",
   "metadata": {},
   "outputs": [],
   "source": [
    "def input_string():\n",
    "    global string\n",
    "    string = input(\"Enter your string: \")\n",
    "    print(\"String sucessfully stored.\")"
   ]
  },
  {
   "cell_type": "code",
   "execution_count": 2,
   "id": "59346f34",
   "metadata": {},
   "outputs": [],
   "source": [
    "def describe(string):\n",
    "    try:\n",
    "        alphanumeric = \"abcdefghijklmnopqrstuvwxyzABCDEFGHIJKLMNOPQRSTUVWXYZ0123456789\"\n",
    "        print(\"\\nAlphabet \\t Frequency \\t Percentage\")\n",
    "        for alnum in alphanumeric:\n",
    "            count = 0\n",
    "            for character in string:\n",
    "                if character == alnum: count += 1\n",
    "            if count > 0:\n",
    "                print(f\"{alnum} \\t\\t {count} \\t\\t {round(count*100.0/len(string), 2)}%\")\n",
    "    except:\n",
    "        print(\"You must first input a string\")"
   ]
  },
  {
   "cell_type": "code",
   "execution_count": 3,
   "id": "d05a8b2a",
   "metadata": {},
   "outputs": [],
   "source": [
    "def main():\n",
    "    choice = 0\n",
    "    while choice != 3:\n",
    "        print(\"\\n========== MAIN MENU ==========\")\n",
    "        print(\"1. Input a string\")\n",
    "        print(\"2. Show frequency and percentage table\")\n",
    "        print(\"3. Quit\")\n",
    "        print(\"===============================\\n\")\n",
    "        \n",
    "        try:\n",
    "            choice = int(input(\"\\nEnter your choice: \"))\n",
    "            if choice not in [1,2,3]: raise IOError\n",
    "        except:\n",
    "            print(\"\\nPlease input an integer from 1-3.\")\n",
    "        \n",
    "        if choice == 1:\n",
    "            input_string()\n",
    "        elif choice == 2:\n",
    "            describe(string)\n",
    "        else:\n",
    "            break\n",
    "    print(\"\\nEnd of Program.\")"
   ]
  },
  {
   "cell_type": "code",
   "execution_count": 4,
   "id": "a06e32ba",
   "metadata": {},
   "outputs": [
    {
     "name": "stdout",
     "output_type": "stream",
     "text": [
      "\n",
      "========== MAIN MENU ==========\n",
      "1. Input a string\n",
      "2. Show frequency and percentage table\n",
      "3. Quit\n",
      "===============================\n",
      "\n",
      "\n",
      "Enter your choice: 1\n",
      "Enter your string: This is a sample string\n",
      "String sucessfully stored.\n",
      "\n",
      "========== MAIN MENU ==========\n",
      "1. Input a string\n",
      "2. Show frequency and percentage table\n",
      "3. Quit\n",
      "===============================\n",
      "\n",
      "\n",
      "Enter your choice: 2\n",
      "\n",
      "Alphabet \t Frequency \t Percentage\n",
      "a \t\t 2 \t\t 8.7%\n",
      "e \t\t 1 \t\t 4.35%\n",
      "g \t\t 1 \t\t 4.35%\n",
      "h \t\t 1 \t\t 4.35%\n",
      "i \t\t 3 \t\t 13.04%\n",
      "l \t\t 1 \t\t 4.35%\n",
      "m \t\t 1 \t\t 4.35%\n",
      "n \t\t 1 \t\t 4.35%\n",
      "p \t\t 1 \t\t 4.35%\n",
      "r \t\t 1 \t\t 4.35%\n",
      "s \t\t 4 \t\t 17.39%\n",
      "t \t\t 1 \t\t 4.35%\n",
      "T \t\t 1 \t\t 4.35%\n",
      "\n",
      "========== MAIN MENU ==========\n",
      "1. Input a string\n",
      "2. Show frequency and percentage table\n",
      "3. Quit\n",
      "===============================\n",
      "\n",
      "\n",
      "Enter your choice: 3\n",
      "\n",
      "End of Program.\n"
     ]
    }
   ],
   "source": [
    "main()"
   ]
  }
 ],
 "metadata": {
  "kernelspec": {
   "display_name": "Python 3",
   "language": "python",
   "name": "python3"
  },
  "language_info": {
   "codemirror_mode": {
    "name": "ipython",
    "version": 3
   },
   "file_extension": ".py",
   "mimetype": "text/x-python",
   "name": "python",
   "nbconvert_exporter": "python",
   "pygments_lexer": "ipython3",
   "version": "3.8.8"
  },
  "latex_envs": {
   "LaTeX_envs_menu_present": true,
   "autoclose": false,
   "autocomplete": true,
   "bibliofile": "biblio.bib",
   "cite_by": "apalike",
   "current_citInitial": 1,
   "eqLabelWithNumbers": true,
   "eqNumInitial": 1,
   "hotkeys": {
    "equation": "Ctrl-E",
    "itemize": "Ctrl-I"
   },
   "labels_anchors": false,
   "latex_user_defs": false,
   "report_style_numbering": false,
   "user_envs_cfg": false
  },
  "toc": {
   "base_numbering": 1,
   "nav_menu": {},
   "number_sections": true,
   "sideBar": true,
   "skip_h1_title": false,
   "title_cell": "Table of Contents",
   "title_sidebar": "Contents",
   "toc_cell": false,
   "toc_position": {},
   "toc_section_display": true,
   "toc_window_display": false
  },
  "varInspector": {
   "cols": {
    "lenName": 16,
    "lenType": 16,
    "lenVar": 40
   },
   "kernels_config": {
    "python": {
     "delete_cmd_postfix": "",
     "delete_cmd_prefix": "del ",
     "library": "var_list.py",
     "varRefreshCmd": "print(var_dic_list())"
    },
    "r": {
     "delete_cmd_postfix": ") ",
     "delete_cmd_prefix": "rm(",
     "library": "var_list.r",
     "varRefreshCmd": "cat(var_dic_list()) "
    }
   },
   "types_to_exclude": [
    "module",
    "function",
    "builtin_function_or_method",
    "instance",
    "_Feature"
   ],
   "window_display": false
  }
 },
 "nbformat": 4,
 "nbformat_minor": 5
}
