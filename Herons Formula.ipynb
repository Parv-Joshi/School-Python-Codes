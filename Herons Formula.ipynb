{
 "cells": [
  {
   "cell_type": "markdown",
   "id": "c1c45545",
   "metadata": {},
   "source": [
    "###### Excercise: Create a program that finds the area of a triangle using Heron's formula."
   ]
  },
  {
   "cell_type": "code",
   "execution_count": 12,
   "id": "c7a2dbf1",
   "metadata": {},
   "outputs": [],
   "source": [
    "def herons_area(a, b, c):\n",
    "    s = (a + b + c)/2.0\n",
    "    from math import sqrt\n",
    "    area = sqrt(s*(s-a)*(s-b)*(s-c))\n",
    "    print(f\"\\nAccording to the Heron's formula, area of the traingle with sides {a}, {b}, and {c} is {area}\")   "
   ]
  },
  {
   "cell_type": "code",
   "execution_count": 13,
   "id": "19d74d6c",
   "metadata": {
    "scrolled": true
   },
   "outputs": [
    {
     "name": "stdout",
     "output_type": "stream",
     "text": [
      "To calcualte the area of triangle using Heron's formula, input the length of sides as positive integers or floating numbers.\n",
      "\n",
      "Enter length of first side: 3\n",
      "Enter length of second side: 5\n",
      "Enter length of third side: 7\n",
      "\n",
      "According to the Heron's formula, area of the traingle with sides 3.0, 5.0, and 7.0 is 6.49519052838329\n"
     ]
    }
   ],
   "source": [
    "print(\"To calcualte the area of triangle using Heron's formula, input the length of sides as positive integers or floating \\\n",
    "numbers.\\n\")\n",
    "\n",
    "try:\n",
    "    a = float(input(\"Enter length of first side: \"))\n",
    "    b = float(input(\"Enter length of second side: \"))\n",
    "    c = float(input(\"Enter length of third side: \"))\n",
    "    if a <= 0.0 or b <= 0.0 or c <= 0.0:\n",
    "        raise IOError\n",
    "except:\n",
    "    print(\"Invalid input. Please try again later.\")\n",
    "    quit()\n",
    "herons_area(a, b, c)\n"
   ]
  }
 ],
 "metadata": {
  "gist": {
   "data": {
    "description": "https://github.com/Parv-Joshi/School-Python-Codes/Herons Formula.ipynb",
    "public": true
   },
   "id": ""
  },
  "kernelspec": {
   "display_name": "Python 3",
   "language": "python",
   "name": "python3"
  },
  "language_info": {
   "codemirror_mode": {
    "name": "ipython",
    "version": 3
   },
   "file_extension": ".py",
   "mimetype": "text/x-python",
   "name": "python",
   "nbconvert_exporter": "python",
   "pygments_lexer": "ipython3",
   "version": "3.8.8"
  },
  "latex_envs": {
   "LaTeX_envs_menu_present": true,
   "autoclose": false,
   "autocomplete": true,
   "bibliofile": "biblio.bib",
   "cite_by": "apalike",
   "current_citInitial": 1,
   "eqLabelWithNumbers": true,
   "eqNumInitial": 1,
   "hotkeys": {
    "equation": "Ctrl-E",
    "itemize": "Ctrl-I"
   },
   "labels_anchors": false,
   "latex_user_defs": false,
   "report_style_numbering": false,
   "user_envs_cfg": false
  },
  "toc": {
   "base_numbering": 1,
   "nav_menu": {},
   "number_sections": true,
   "sideBar": true,
   "skip_h1_title": false,
   "title_cell": "Table of Contents",
   "title_sidebar": "Contents",
   "toc_cell": false,
   "toc_position": {},
   "toc_section_display": true,
   "toc_window_display": false
  },
  "varInspector": {
   "cols": {
    "lenName": 16,
    "lenType": 16,
    "lenVar": 40
   },
   "kernels_config": {
    "python": {
     "delete_cmd_postfix": "",
     "delete_cmd_prefix": "del ",
     "library": "var_list.py",
     "varRefreshCmd": "print(var_dic_list())"
    },
    "r": {
     "delete_cmd_postfix": ") ",
     "delete_cmd_prefix": "rm(",
     "library": "var_list.r",
     "varRefreshCmd": "cat(var_dic_list()) "
    }
   },
   "types_to_exclude": [
    "module",
    "function",
    "builtin_function_or_method",
    "instance",
    "_Feature"
   ],
   "window_display": false
  }
 },
 "nbformat": 4,
 "nbformat_minor": 5
}
