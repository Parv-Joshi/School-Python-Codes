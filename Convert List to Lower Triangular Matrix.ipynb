{
 "cells": [
  {
   "cell_type": "markdown",
   "id": "e1db024d",
   "metadata": {},
   "source": [
    "###### Excercise: Create a program that inputs a list, and converts it to a lower-triangular matrix with the ith element in the list as the ith column elements of the lower-triangular matrix."
   ]
  },
  {
   "cell_type": "markdown",
   "id": "24ec367f",
   "metadata": {},
   "source": [
    "matrix = matrix, n = number of columns = number of rows (square matrix), a = list"
   ]
  },
  {
   "cell_type": "code",
   "execution_count": 37,
   "id": "8dde5aed",
   "metadata": {},
   "outputs": [],
   "source": [
    "def convert_to_matrix(a, n):\n",
    "    matrix = [[0 for col in range(n)] for row in range(n)]\n",
    "    for i in range(n):\n",
    "        for j in range(n):\n",
    "            if i >= j:\n",
    "                matrix[i][j] = a[j]\n",
    "    for i in range(n):\n",
    "        for j in range(n):\n",
    "            print(matrix[i][j], end=\"\\t\")\n",
    "        print()"
   ]
  },
  {
   "cell_type": "code",
   "execution_count": 38,
   "id": "55ddf4cb",
   "metadata": {},
   "outputs": [],
   "source": [
    "def create_new_list():\n",
    "    global a, n\n",
    "    a = []\n",
    "    n = int(input(\"\\nEnter the number of digit-elements of the list: \"))\n",
    "    print(\"Enter your\", n, \"digit-numbers one by one\")\n",
    "    for i in range(n):\n",
    "        a.append(int(input(f\"Enter you element {i+1}: \")))"
   ]
  },
  {
   "cell_type": "code",
   "execution_count": 39,
   "id": "451f24ea",
   "metadata": {},
   "outputs": [],
   "source": [
    "def main():\n",
    "    while True:\n",
    "        print(\"\\n=================== MAIN MENU ===================\")\n",
    "        print(\"1. Enter a (new) list\")\n",
    "        print(\"2. Convert list to a left-diagonal matrix\")\n",
    "        print(\"3. Quit\")\n",
    "        print(\"=================================================\\n\")\n",
    "\n",
    "        choice = int(input(\"Enter your choice: \"))\n",
    "        if choice not in [1, 2, 3]:\n",
    "            print(\"\\nInvalid Input\")\n",
    "        elif choice == 1:\n",
    "            create_new_list()\n",
    "        elif choice == 2:\n",
    "            convert_to_matrix(a, n)\n",
    "        else:\n",
    "            print(\"End of program\")\n",
    "            break"
   ]
  },
  {
   "cell_type": "code",
   "execution_count": 40,
   "id": "69806e70",
   "metadata": {},
   "outputs": [
    {
     "name": "stdout",
     "output_type": "stream",
     "text": [
      "\n",
      "=================== MAIN MENU ===================\n",
      "1. Enter a (new) list\n",
      "2. Convert list to a left-diagonal matrix\n",
      "3. Quit\n",
      "=================================================\n",
      "\n",
      "Enter your choice: 1\n",
      "\n",
      "Enter the number of digit-elements of the list: 7\n",
      "Enter your 7 digit-numbers one by one\n",
      "Enter you element 1: 3\n",
      "Enter you element 2: 5\n",
      "Enter you element 3: 3\n",
      "Enter you element 4: 6\n",
      "Enter you element 5: 4\n",
      "Enter you element 6: 6\n",
      "Enter you element 7: 2\n",
      "\n",
      "=================== MAIN MENU ===================\n",
      "1. Enter a (new) list\n",
      "2. Convert list to a left-diagonal matrix\n",
      "3. Quit\n",
      "=================================================\n",
      "\n",
      "Enter your choice: 2\n",
      "3\t0\t0\t0\t0\t0\t0\t\n",
      "3\t5\t0\t0\t0\t0\t0\t\n",
      "3\t5\t3\t0\t0\t0\t0\t\n",
      "3\t5\t3\t6\t0\t0\t0\t\n",
      "3\t5\t3\t6\t4\t0\t0\t\n",
      "3\t5\t3\t6\t4\t6\t0\t\n",
      "3\t5\t3\t6\t4\t6\t2\t\n",
      "\n",
      "=================== MAIN MENU ===================\n",
      "1. Enter a (new) list\n",
      "2. Convert list to a left-diagonal matrix\n",
      "3. Quit\n",
      "=================================================\n",
      "\n",
      "Enter your choice: 3\n",
      "End of program\n"
     ]
    }
   ],
   "source": [
    "main()"
   ]
  }
 ],
 "metadata": {
  "kernelspec": {
   "display_name": "Python 3",
   "language": "python",
   "name": "python3"
  },
  "language_info": {
   "codemirror_mode": {
    "name": "ipython",
    "version": 3
   },
   "file_extension": ".py",
   "mimetype": "text/x-python",
   "name": "python",
   "nbconvert_exporter": "python",
   "pygments_lexer": "ipython3",
   "version": "3.8.8"
  },
  "latex_envs": {
   "LaTeX_envs_menu_present": true,
   "autoclose": false,
   "autocomplete": true,
   "bibliofile": "biblio.bib",
   "cite_by": "apalike",
   "current_citInitial": 1,
   "eqLabelWithNumbers": true,
   "eqNumInitial": 1,
   "hotkeys": {
    "equation": "Ctrl-E",
    "itemize": "Ctrl-I"
   },
   "labels_anchors": false,
   "latex_user_defs": false,
   "report_style_numbering": false,
   "user_envs_cfg": false
  },
  "toc": {
   "base_numbering": 1,
   "nav_menu": {},
   "number_sections": true,
   "sideBar": true,
   "skip_h1_title": false,
   "title_cell": "Table of Contents",
   "title_sidebar": "Contents",
   "toc_cell": false,
   "toc_position": {},
   "toc_section_display": true,
   "toc_window_display": false
  },
  "varInspector": {
   "cols": {
    "lenName": 16,
    "lenType": 16,
    "lenVar": 40
   },
   "kernels_config": {
    "python": {
     "delete_cmd_postfix": "",
     "delete_cmd_prefix": "del ",
     "library": "var_list.py",
     "varRefreshCmd": "print(var_dic_list())"
    },
    "r": {
     "delete_cmd_postfix": ") ",
     "delete_cmd_prefix": "rm(",
     "library": "var_list.r",
     "varRefreshCmd": "cat(var_dic_list()) "
    }
   },
   "types_to_exclude": [
    "module",
    "function",
    "builtin_function_or_method",
    "instance",
    "_Feature"
   ],
   "window_display": false
  }
 },
 "nbformat": 4,
 "nbformat_minor": 5
}
