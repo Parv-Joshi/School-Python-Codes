{
 "cells": [
  {
   "cell_type": "markdown",
   "id": "e4e32161",
   "metadata": {},
   "source": [
    "###### Excercise. Create a program that displays all prime numbers between two numbers input by a user (both inclusive)."
   ]
  },
  {
   "cell_type": "code",
   "execution_count": 14,
   "id": "7bcc8e37",
   "metadata": {},
   "outputs": [
    {
     "name": "stdout",
     "output_type": "stream",
     "text": [
      "Enter the lower limit : 3\n",
      "Enter the upper limit : 33\n",
      "The prmie numbers between 3 and 33 are:\n",
      "3\t5\t7\t11\t13\t17\t19\t23\t29\t31\t"
     ]
    }
   ],
   "source": [
    "n1 = int(input(\"Enter the lower limit : \"))\n",
    "n2 = int(input(\"Enter the upper limit : \"))\n",
    "prime = list()\n",
    "for n in range(n1, n2+1):\n",
    "    for i in range(2, (n//2)+1):\n",
    "        if n % i == 0:\n",
    "            break\n",
    "    else:\n",
    "        prime.append(n)\n",
    "\n",
    "print(f\"The prmie numbers between {n1} and {n2} (both inclusive) are:\")\n",
    "for n in prime:\n",
    "    print(n, end=\"\\t\")"
   ]
  }
 ],
 "metadata": {
  "kernelspec": {
   "display_name": "Python 3",
   "language": "python",
   "name": "python3"
  },
  "language_info": {
   "codemirror_mode": {
    "name": "ipython",
    "version": 3
   },
   "file_extension": ".py",
   "mimetype": "text/x-python",
   "name": "python",
   "nbconvert_exporter": "python",
   "pygments_lexer": "ipython3",
   "version": "3.8.8"
  },
  "latex_envs": {
   "LaTeX_envs_menu_present": true,
   "autoclose": false,
   "autocomplete": true,
   "bibliofile": "biblio.bib",
   "cite_by": "apalike",
   "current_citInitial": 1,
   "eqLabelWithNumbers": true,
   "eqNumInitial": 1,
   "hotkeys": {
    "equation": "Ctrl-E",
    "itemize": "Ctrl-I"
   },
   "labels_anchors": false,
   "latex_user_defs": false,
   "report_style_numbering": false,
   "user_envs_cfg": false
  },
  "toc": {
   "base_numbering": 1,
   "nav_menu": {},
   "number_sections": true,
   "sideBar": true,
   "skip_h1_title": false,
   "title_cell": "Table of Contents",
   "title_sidebar": "Contents",
   "toc_cell": false,
   "toc_position": {},
   "toc_section_display": true,
   "toc_window_display": false
  },
  "varInspector": {
   "cols": {
    "lenName": 16,
    "lenType": 16,
    "lenVar": 40
   },
   "kernels_config": {
    "python": {
     "delete_cmd_postfix": "",
     "delete_cmd_prefix": "del ",
     "library": "var_list.py",
     "varRefreshCmd": "print(var_dic_list())"
    },
    "r": {
     "delete_cmd_postfix": ") ",
     "delete_cmd_prefix": "rm(",
     "library": "var_list.r",
     "varRefreshCmd": "cat(var_dic_list()) "
    }
   },
   "types_to_exclude": [
    "module",
    "function",
    "builtin_function_or_method",
    "instance",
    "_Feature"
   ],
   "window_display": false
  }
 },
 "nbformat": 4,
 "nbformat_minor": 5
}
