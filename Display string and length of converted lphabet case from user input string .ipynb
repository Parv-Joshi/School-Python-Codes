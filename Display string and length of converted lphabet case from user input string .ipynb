{
 "cells": [
  {
   "cell_type": "markdown",
   "id": "25258e26",
   "metadata": {},
   "source": [
    "###### Excercise. Create a program that asks the user to input a string, display it and its length, converts its lowercase alphabets to uppercase and stores it in another variable (that variable should only include the lowercase converted to uppercase) and displays it, and converts its uppercase alphabets to lowercase and stores it in another variable(that variable should only include the uppercase converted to lowercase) and displays it."
   ]
  },
  {
   "cell_type": "code",
   "execution_count": 1,
   "id": "7d1f582e",
   "metadata": {},
   "outputs": [],
   "source": [
    "def strUpper(strMain):\n",
    "    strUpper = \"\"\n",
    "    for i in strMain:\n",
    "        if i.islower():\n",
    "            j = i.upper()\n",
    "            strUpper += j\n",
    "    print(\"The string with lowercase letters converted to uppercase is: \", strUpper)\n",
    "    print(\"and its length is\", len(strUpper))"
   ]
  },
  {
   "cell_type": "code",
   "execution_count": 2,
   "id": "c0c12f4a",
   "metadata": {},
   "outputs": [],
   "source": [
    "def strLower(strMain):\n",
    "    strLower = \"\"\n",
    "    for i in strMain:\n",
    "        if i.isupper():\n",
    "            j = i.lower()\n",
    "            strLower += j\n",
    "    print(\"The string with uppercase letters converted to lowercase is: \", strLower)\n",
    "    print(\"and its length is\", len(strLower))"
   ]
  },
  {
   "cell_type": "code",
   "execution_count": 3,
   "id": "e1ead215",
   "metadata": {},
   "outputs": [],
   "source": [
    "def main():\n",
    "    choice = 0\n",
    "    while choice != 5:\n",
    "        print(\"\\n********* MAIN MENU **********\")\n",
    "        print(\"1. Input string\")\n",
    "        print(\"2. Display the string and its length\")\n",
    "        print(\"3. Convert lowercase letters to upper case and store in another string\")\n",
    "        print(\"4. Convert uppercase letters to lower case and store in another string\")\n",
    "        print(\"5. Exit\")\n",
    "        print(\"******************************\\n\")\n",
    "        choice = int(input(\"Enter your choice: \"))\n",
    "        if choice == 1:\n",
    "            strMain = input(\"Enter your string: \")\n",
    "        elif choice == 2:\n",
    "            print(\"The string is '\" + strMain + \"' and its length is\", len(strMain))\n",
    "        elif choice == 3:\n",
    "            strUpper(strMain)\n",
    "        elif choice == 4:\n",
    "            strLower(strMain)\n",
    "        elif choice == 5:\n",
    "            print(\"Ending the program!\")"
   ]
  },
  {
   "cell_type": "code",
   "execution_count": 4,
   "id": "ece868c8",
   "metadata": {},
   "outputs": [
    {
     "name": "stdout",
     "output_type": "stream",
     "text": [
      "\n",
      "********* MAIN MENU **********\n",
      "1. Input string\n",
      "2. Display the string and its length\n",
      "3. Convert lowercase letters to upper case and store in another string\n",
      "4. Convert uppercase letters to lower case and store in another string\n",
      "5. Exit\n",
      "******************************\n",
      "\n",
      "Enter your choice: 1\n",
      "Enter your string: My Name is Parv Joshi\n",
      "\n",
      "********* MAIN MENU **********\n",
      "1. Input string\n",
      "2. Display the string and its length\n",
      "3. Convert lowercase letters to upper case and store in another string\n",
      "4. Convert uppercase letters to lower case and store in another string\n",
      "5. Exit\n",
      "******************************\n",
      "\n",
      "Enter your choice: 2\n",
      "The string is 'My Name is Parv Joshi' and its length is 21\n",
      "\n",
      "********* MAIN MENU **********\n",
      "1. Input string\n",
      "2. Display the string and its length\n",
      "3. Convert lowercase letters to upper case and store in another string\n",
      "4. Convert uppercase letters to lower case and store in another string\n",
      "5. Exit\n",
      "******************************\n",
      "\n",
      "Enter your choice: 3\n",
      "The string with lowercase letters converted to uppercase is:  YAMEISARVOSHI\n",
      "and its length is 13\n",
      "\n",
      "********* MAIN MENU **********\n",
      "1. Input string\n",
      "2. Display the string and its length\n",
      "3. Convert lowercase letters to upper case and store in another string\n",
      "4. Convert uppercase letters to lower case and store in another string\n",
      "5. Exit\n",
      "******************************\n",
      "\n",
      "Enter your choice: 4\n",
      "The string with uppercase letters converted to lowercase is:  mnpj\n",
      "and its length is 4\n",
      "\n",
      "********* MAIN MENU **********\n",
      "1. Input string\n",
      "2. Display the string and its length\n",
      "3. Convert lowercase letters to upper case and store in another string\n",
      "4. Convert uppercase letters to lower case and store in another string\n",
      "5. Exit\n",
      "******************************\n",
      "\n",
      "Enter your choice: 5\n",
      "Ending the program!\n"
     ]
    }
   ],
   "source": [
    "main()"
   ]
  }
 ],
 "metadata": {
  "kernelspec": {
   "display_name": "Python 3",
   "language": "python",
   "name": "python3"
  },
  "language_info": {
   "codemirror_mode": {
    "name": "ipython",
    "version": 3
   },
   "file_extension": ".py",
   "mimetype": "text/x-python",
   "name": "python",
   "nbconvert_exporter": "python",
   "pygments_lexer": "ipython3",
   "version": "3.8.8"
  },
  "latex_envs": {
   "LaTeX_envs_menu_present": true,
   "autoclose": false,
   "autocomplete": true,
   "bibliofile": "biblio.bib",
   "cite_by": "apalike",
   "current_citInitial": 1,
   "eqLabelWithNumbers": true,
   "eqNumInitial": 1,
   "hotkeys": {
    "equation": "Ctrl-E",
    "itemize": "Ctrl-I"
   },
   "labels_anchors": false,
   "latex_user_defs": false,
   "report_style_numbering": false,
   "user_envs_cfg": false
  },
  "toc": {
   "base_numbering": 1,
   "nav_menu": {},
   "number_sections": true,
   "sideBar": true,
   "skip_h1_title": false,
   "title_cell": "Table of Contents",
   "title_sidebar": "Contents",
   "toc_cell": false,
   "toc_position": {},
   "toc_section_display": true,
   "toc_window_display": false
  },
  "varInspector": {
   "cols": {
    "lenName": 16,
    "lenType": 16,
    "lenVar": 40
   },
   "kernels_config": {
    "python": {
     "delete_cmd_postfix": "",
     "delete_cmd_prefix": "del ",
     "library": "var_list.py",
     "varRefreshCmd": "print(var_dic_list())"
    },
    "r": {
     "delete_cmd_postfix": ") ",
     "delete_cmd_prefix": "rm(",
     "library": "var_list.r",
     "varRefreshCmd": "cat(var_dic_list()) "
    }
   },
   "types_to_exclude": [
    "module",
    "function",
    "builtin_function_or_method",
    "instance",
    "_Feature"
   ],
   "window_display": false
  }
 },
 "nbformat": 4,
 "nbformat_minor": 5
}
