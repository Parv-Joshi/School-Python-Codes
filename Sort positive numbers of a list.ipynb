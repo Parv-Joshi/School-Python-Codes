{
 "cells": [
  {
   "cell_type": "markdown",
   "id": "ab020a05",
   "metadata": {},
   "source": [
    "###### Excercise: Create a program that asks the user to input a list if integers, displays it, and sorts only the positive integers in the list (without affecting the negative and 0 numbers)."
   ]
  },
  {
   "cell_type": "code",
   "execution_count": 1,
   "id": "9cf3c708",
   "metadata": {},
   "outputs": [],
   "source": [
    "def sort_positive(l):\n",
    "    list = l[:]\n",
    "    for i in range(len(list)):\n",
    "        for j in range(i+1, len(list)):\n",
    "            if list[i] > 0  and list[j] > 0:\n",
    "                if list[j] < list[i]:\n",
    "                    list[i], list[j] = list[j], list[i]\n",
    "    print(\"The sorted (positive integers only is) list is\", list) "
   ]
  },
  {
   "cell_type": "code",
   "execution_count": 2,
   "id": "2fd2230c",
   "metadata": {},
   "outputs": [],
   "source": [
    "def main():\n",
    "    choice = 0\n",
    "    while choice != 4:\n",
    "        print(\"\\n==================== MAIN MENU ====================\")\n",
    "        print(\"1. Input a list\")\n",
    "        print(\"2. Display the original list\")\n",
    "        print(\"3. Display list sorted only for positive integers\")\n",
    "        print(\"4. Quit\")\n",
    "        print(\"===================================================\\n\")\n",
    "        \n",
    "        try:\n",
    "            choice = int(input(\"\\nEnter your choice: \"))\n",
    "            if choice not in [1,2,3,4]: raise ValueError\n",
    "        except:\n",
    "            print(\"\\nPlease input an integer from 1-4.\")\n",
    "        \n",
    "        if choice == 1:\n",
    "            n = int(input(\"Enter the number of elements: \"))\n",
    "            print(f\"\\nInput your {n} elemnts one-by-one below.\")\n",
    "            l = []\n",
    "            for i in range(n):\n",
    "                l.append(int(input(f\"Input element {i+1}: \")))\n",
    "        elif choice == 2:\n",
    "            print(\"Your original list is:\", l)\n",
    "        elif choice == 3:\n",
    "            sort_positive(l)\n",
    "        else:\n",
    "            break\n",
    "    print(\"End of program.\")"
   ]
  },
  {
   "cell_type": "code",
   "execution_count": 4,
   "id": "4f52593d",
   "metadata": {},
   "outputs": [
    {
     "name": "stdout",
     "output_type": "stream",
     "text": [
      "\n",
      "==================== MAIN MENU ====================\n",
      "1. Input a list\n",
      "2. Display the original list\n",
      "3. Display list sorted only for positive integers\n",
      "4. Quit\n",
      "===================================================\n",
      "\n",
      "\n",
      "Enter your choice: 1\n",
      "Enter the number of elements: 7\n",
      "\n",
      "Input your 7 elemnts one-by-one below.\n",
      "Input element 1: 5\n",
      "Input element 2: -4\n",
      "Input element 3: 6\n",
      "Input element 4: 2\n",
      "Input element 5: 0\n",
      "Input element 6: -9\n",
      "Input element 7: 9\n",
      "\n",
      "==================== MAIN MENU ====================\n",
      "1. Input a list\n",
      "2. Display the original list\n",
      "3. Display list sorted only for positive integers\n",
      "4. Quit\n",
      "===================================================\n",
      "\n",
      "\n",
      "Enter your choice: 2\n",
      "Your original list is: [5, -4, 6, 2, 0, -9, 9]\n",
      "\n",
      "==================== MAIN MENU ====================\n",
      "1. Input a list\n",
      "2. Display the original list\n",
      "3. Display list sorted only for positive integers\n",
      "4. Quit\n",
      "===================================================\n",
      "\n",
      "\n",
      "Enter your choice: 3\n",
      "The sorted (positive integers only is) list is [2, -4, 5, 6, 0, -9, 9]\n",
      "\n",
      "==================== MAIN MENU ====================\n",
      "1. Input a list\n",
      "2. Display the original list\n",
      "3. Display list sorted only for positive integers\n",
      "4. Quit\n",
      "===================================================\n",
      "\n",
      "\n",
      "Enter your choice: 4\n",
      "End of program.\n"
     ]
    }
   ],
   "source": [
    "main()"
   ]
  }
 ],
 "metadata": {
  "kernelspec": {
   "display_name": "Python 3",
   "language": "python",
   "name": "python3"
  },
  "language_info": {
   "codemirror_mode": {
    "name": "ipython",
    "version": 3
   },
   "file_extension": ".py",
   "mimetype": "text/x-python",
   "name": "python",
   "nbconvert_exporter": "python",
   "pygments_lexer": "ipython3",
   "version": "3.8.8"
  },
  "latex_envs": {
   "LaTeX_envs_menu_present": true,
   "autoclose": false,
   "autocomplete": true,
   "bibliofile": "biblio.bib",
   "cite_by": "apalike",
   "current_citInitial": 1,
   "eqLabelWithNumbers": true,
   "eqNumInitial": 1,
   "hotkeys": {
    "equation": "Ctrl-E",
    "itemize": "Ctrl-I"
   },
   "labels_anchors": false,
   "latex_user_defs": false,
   "report_style_numbering": false,
   "user_envs_cfg": false
  },
  "toc": {
   "base_numbering": 1,
   "nav_menu": {},
   "number_sections": true,
   "sideBar": true,
   "skip_h1_title": false,
   "title_cell": "Table of Contents",
   "title_sidebar": "Contents",
   "toc_cell": false,
   "toc_position": {},
   "toc_section_display": true,
   "toc_window_display": false
  },
  "varInspector": {
   "cols": {
    "lenName": 16,
    "lenType": 16,
    "lenVar": 40
   },
   "kernels_config": {
    "python": {
     "delete_cmd_postfix": "",
     "delete_cmd_prefix": "del ",
     "library": "var_list.py",
     "varRefreshCmd": "print(var_dic_list())"
    },
    "r": {
     "delete_cmd_postfix": ") ",
     "delete_cmd_prefix": "rm(",
     "library": "var_list.r",
     "varRefreshCmd": "cat(var_dic_list()) "
    }
   },
   "types_to_exclude": [
    "module",
    "function",
    "builtin_function_or_method",
    "instance",
    "_Feature"
   ],
   "window_display": false
  }
 },
 "nbformat": 4,
 "nbformat_minor": 5
}
