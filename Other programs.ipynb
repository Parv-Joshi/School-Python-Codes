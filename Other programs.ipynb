{
 "cells": [
  {
   "cell_type": "code",
   "execution_count": null,
   "id": "24efaac5",
   "metadata": {},
   "outputs": [],
   "source": [
    "# Ask user to input two tuples, and swap them.\n",
    "n1 = int(input(\"Enter total no. of elements for tuple 1: \"))\n",
    "t1 = tuple()\n",
    "\n",
    "for i in range(n1):\n",
    "    a = input(f\"Enter Element {i+1}: \")\n",
    "    t1 += (a,)\n",
    "\n",
    "print(\"1st Tuple:\", t1)\n",
    "\n",
    "n2 = eval(input(\"Enter total no. of elements for tuple 2: \"))\n",
    "t2 = tuple()\n",
    "\n",
    "for i in range(n2):\n",
    "    b = input(f\"Enter Element {i+1}: \")\n",
    "    t2 += (b, )\n",
    "\n",
    "print(\"2nd Tuple -\", t2)\n",
    "\n",
    "t1, t2 = t2, t1\n",
    "print(\"\\n afteer swapping\")\n",
    "\n",
    "print(\"1st Tuple:\", t1)\n",
    "print(\"2nd Tuple:\", t2)"
   ]
  },
  {
   "cell_type": "code",
   "execution_count": null,
   "id": "c820027d",
   "metadata": {},
   "outputs": [],
   "source": [
    "# Create a tuple of customers names\n",
    "n = int(input(\"Enter the total no. of customers: \"))\n",
    "t = tuple()\n",
    "print(\"Enter customer names one by one :\")\n",
    "for i in range(n):\n",
    "    a = input(\"Enter customer name: \")\n",
    "    t += (a,)\n",
    "print(\"Displying\", n, \"customers' name: \")\n",
    "print(t)"
   ]
  },
  {
   "cell_type": "code",
   "execution_count": null,
   "id": "f1a5353c",
   "metadata": {},
   "outputs": [],
   "source": [
    "# Change all uppecase alphabets to lower case and visa versa, using ord() and chr() functions\n",
    "str = input(\"Enter a String: \")\n",
    "print(\"The Original string:\", str)\n",
    "swap = \"\"\n",
    "for ch in str:\n",
    "    if ch >= \"A\" and ch <= \"Z\":\n",
    "        swap = swap + chr(ord(ch) + 32)\n",
    "    else:\n",
    "        if (ch >= \"a\" and ch <= \"z\"):\n",
    "            swap = swap + chr(ord(ch) - 32)\n",
    "        else:\n",
    "            swap = swap + ch\n",
    "print(\"The new string after swapping case is:\", swap)"
   ]
  },
  {
   "cell_type": "code",
   "execution_count": null,
   "id": "258e7f52",
   "metadata": {},
   "outputs": [],
   "source": [
    "# Enter marks of n students, find sum, avarage, highest and lowest marks -\n",
    "n = int(input(\"Enter number of students: \"))\n",
    "a = list(range(n))\n",
    "sum = 0.0\n",
    "for i in range(n):\n",
    "    a[i] = int(input(\"Enter a mark: \"))\n",
    "    sum += a[i]\n",
    "for i in range(n):\n",
    "    print(\"Mark of student\", i + 1, \"is\", a[i])\n",
    "print(\"Sum =\", sum)\n",
    "avarage = sum / n\n",
    "print(\"Avarage =\", avarage)\n",
    "print(\"Maximum mark =\", max(a))\n",
    "print(\"Minimum mark =\", min(a))"
   ]
  },
  {
   "cell_type": "code",
   "execution_count": null,
   "id": "57f15092",
   "metadata": {},
   "outputs": [],
   "source": [
    "# Alternating elements of a list\n",
    "n = int(input(\"Enter no. of elements(to be even): \"))\n",
    "print(\"Enter\", n, \"elements one by one: \")\n",
    "a = list(range(n))\n",
    "for i in range(n):\n",
    "    a[i] = int(input(\"Enter element: \"))\n",
    "print(\"Original List =\", a)\n",
    "for i in range(0, n, 2):\n",
    "    a[i], a[i + 1] = a[i + 1], a[i]\n",
    "print(\"The list after reversing=\", a)"
   ]
  },
  {
   "cell_type": "code",
   "execution_count": null,
   "id": "f9ff353f",
   "metadata": {},
   "outputs": [],
   "source": [
    "# Exchanging the 2 1/2s of the list\n",
    "n = int(input(\"Enter no. of elements (to be even): \"))\n",
    "print(\"Enter\", n, \"elements one by one: \")\n",
    "a = list(range(n))\n",
    "for i in range(n):\n",
    "    a[i] = int(input(\"Enter element: \"))\n",
    "print(\"Original List =\", a)\n",
    "for i in range(0, n // 2):\n",
    "    a[i], a[n // 2 + i] = a[n // 2 + i], a[i]\n",
    "print(\"The list after changing =\", a)"
   ]
  },
  {
   "cell_type": "code",
   "execution_count": null,
   "id": "2604c751",
   "metadata": {},
   "outputs": [],
   "source": [
    "# Cumulative Sum\n",
    "n = int(input(\"Enter no. of elements: \"))\n",
    "print(\"Enter\", n, \"elements one by one: \")\n",
    "a = list(range(n))\n",
    "for i in range(n):\n",
    "    a[i] = int(input(f\"Enter element {i+1}: \"))\n",
    "print(\"The original List is\", a)\n",
    "sum = 0\n",
    "b = []\n",
    "for i in range(n):\n",
    "    a[i] = int(input(\"Enter element: \"))\n",
    "print(\"The original List is\", a)\n",
    "b = list(range(n))\n",
    "for i in range(n):\n",
    "    sum = 0\n",
    "    for j in range(i + 1):\n",
    "        sum += a[j]\n",
    "    b[i] = sum\n",
    "print(\"The new list is\", b)"
   ]
  },
  {
   "cell_type": "code",
   "execution_count": null,
   "id": "16664981",
   "metadata": {},
   "outputs": [],
   "source": [
    "# CHOP PROGRAM\n",
    "def chop(a, n):\n",
    "    c = list(range(n - 2))\n",
    "    first = a.pop(0)\n",
    "    last = a.pop(n - 2)\n",
    "    for i in range(n - 2):\n",
    "        c[i] = a[i]\n",
    "    print(\"The removed first element is\", first)\n",
    "    print(\"The removed last element is\", last)\n",
    "    print(\"\\nThe modified list without 1st and last elements is\")\n",
    "    for i in range(n - 2):\n",
    "        print(c[i], end=' ')\n",
    "\n",
    "\n",
    "def middle(b, m):\n",
    "    d = list(range(2))\n",
    "    e = list(range(m - 2))\n",
    "    d[0] = b[0]\n",
    "    d[1] = b[m - 1]\n",
    "    j = 0\n",
    "    for i in range(1, m - 1):\n",
    "        e[j] = b[i]\n",
    "        j += 1\n",
    "    print(\"\\nThe list with 1st and last elements is\")\n",
    "    for i in range(2):\n",
    "        print(d[i], end=' ')\n",
    "    print(\"\\nThe list with elements other than the 1st and last elements is\")\n",
    "    for i in range(m - 2):\n",
    "        print(e[i], end=' ')\n",
    "\n",
    "\n",
    "def main():\n",
    "    n = int(input(\"Enter no. of elements of the 1st list: \"))\n",
    "    a = list(range(n))\n",
    "    print(\"Enter\", n, \"elements one by one: \")\n",
    "    for i in range(n):\n",
    "        a[i] = int(input(\"Enter element: \"))\n",
    "\n",
    "    m = int(input(\"Enter no. of elements of the 2nd list: \"))\n",
    "    b = list(range(m))\n",
    "    print(\"Enter\", m, \"elements one by one: \")\n",
    "    for i in range(m):\n",
    "        b[i] = int(input(\"Enter element: \"))\n",
    "\n",
    "    chop(a, n)\n",
    "    middle(b, m)\n",
    "\n",
    "\n",
    "main()"
   ]
  },
  {
   "cell_type": "code",
   "execution_count": null,
   "id": "c1f85a93",
   "metadata": {},
   "outputs": [],
   "source": [
    "# reverse a list without using 2nd list or built-in function\n",
    "def reverse(a, n):\n",
    "    j = n - 1\n",
    "    for i in range(n / 2):\n",
    "        a[i], a[j] = a[j], a[i]\n",
    "        j -= 1\n",
    "    print(\"the reversed list is\", a)"
   ]
  },
  {
   "cell_type": "code",
   "execution_count": null,
   "id": "231be0d3",
   "metadata": {},
   "outputs": [],
   "source": [
    "# sum & avarage of odd and even no.s in a list\n",
    "def odd_even(a, n):\n",
    "    odd = even = oddsum = evensum = 0.0\n",
    "    for i in range(n):\n",
    "        if a[i] % 2 == 0:\n",
    "            even += 1\n",
    "            evensum += a[i]\n",
    "        else:\n",
    "            odd += 1\n",
    "            oddsum += a[i]\n",
    "    print(\"Sum of even elements: \", evensum)\n",
    "    print(\"No. of even elements: \", even)\n",
    "    print(\"Sum of odd elements: \", oddsum)\n",
    "    print(\"No. of odd elements: \", odd)\n",
    "    evenav = evensum / even\n",
    "    oddav = oddsum / odd\n",
    "    print(\"Avarage of even no.s: \", evenav)\n",
    "    print(\"Avarage of odd no.s: \", oddav)"
   ]
  },
  {
   "cell_type": "code",
   "execution_count": null,
   "id": "551003cb",
   "metadata": {},
   "outputs": [],
   "source": [
    "# Find sum of digits of a multidigit no.\n",
    "n = eval(input(\"Enter a multidigit no.: \"))\n",
    "sum = 0.0\n",
    "while n > 0:\n",
    "    digit = n % 10\n",
    "    sum += digit\n",
    "    n //= 10\n",
    "print((\"Sum of the digits is\", sum))"
   ]
  },
  {
   "cell_type": "code",
   "execution_count": null,
   "id": "4de3d107",
   "metadata": {},
   "outputs": [],
   "source": [
    "# search a singledigit no. in multidigit no.\n",
    "m = eval(input(\"Enter a multidigit no.: \"))\n",
    "n = eval(input(\"Enter a singledigit no.: \"))\n",
    "found = 0\n",
    "while m > 0:\n",
    "    digit = m % 10\n",
    "    if n == digit:\n",
    "        found = 1\n",
    "        break\n",
    "    else:\n",
    "        m //= 10\n",
    "if found == 1:\n",
    "    print(\"it is a part\")\n",
    "else:\n",
    "    print(\"It is not a part\")"
   ]
  }
 ],
 "metadata": {
  "kernelspec": {
   "display_name": "Python 3",
   "language": "python",
   "name": "python3"
  },
  "language_info": {
   "codemirror_mode": {
    "name": "ipython",
    "version": 3
   },
   "file_extension": ".py",
   "mimetype": "text/x-python",
   "name": "python",
   "nbconvert_exporter": "python",
   "pygments_lexer": "ipython3",
   "version": "3.8.8"
  },
  "latex_envs": {
   "LaTeX_envs_menu_present": true,
   "autoclose": false,
   "autocomplete": true,
   "bibliofile": "biblio.bib",
   "cite_by": "apalike",
   "current_citInitial": 1,
   "eqLabelWithNumbers": true,
   "eqNumInitial": 1,
   "hotkeys": {
    "equation": "Ctrl-E",
    "itemize": "Ctrl-I"
   },
   "labels_anchors": false,
   "latex_user_defs": false,
   "report_style_numbering": false,
   "user_envs_cfg": false
  },
  "toc": {
   "base_numbering": 1,
   "nav_menu": {},
   "number_sections": true,
   "sideBar": true,
   "skip_h1_title": false,
   "title_cell": "Table of Contents",
   "title_sidebar": "Contents",
   "toc_cell": false,
   "toc_position": {},
   "toc_section_display": true,
   "toc_window_display": false
  },
  "varInspector": {
   "cols": {
    "lenName": 16,
    "lenType": 16,
    "lenVar": 40
   },
   "kernels_config": {
    "python": {
     "delete_cmd_postfix": "",
     "delete_cmd_prefix": "del ",
     "library": "var_list.py",
     "varRefreshCmd": "print(var_dic_list())"
    },
    "r": {
     "delete_cmd_postfix": ") ",
     "delete_cmd_prefix": "rm(",
     "library": "var_list.r",
     "varRefreshCmd": "cat(var_dic_list()) "
    }
   },
   "types_to_exclude": [
    "module",
    "function",
    "builtin_function_or_method",
    "instance",
    "_Feature"
   ],
   "window_display": false
  }
 },
 "nbformat": 4,
 "nbformat_minor": 5
}
