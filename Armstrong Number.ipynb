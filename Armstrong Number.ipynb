{
 "cells": [
  {
   "cell_type": "markdown",
   "id": "61ce2629",
   "metadata": {},
   "source": [
    "###### Exercise. Create a program that checks if a number is an Armstrong Number or not.\n",
    "Hint: Armstrong number is a number that is equal to the sum of cubes of its digits. For example 0, 1, 153, 370, 371 and 407 are the Armstrong numbers."
   ]
  },
  {
   "cell_type": "code",
   "execution_count": 1,
   "id": "4c67bfdb",
   "metadata": {},
   "outputs": [
    {
     "name": "stdout",
     "output_type": "stream",
     "text": [
      "Enter a positive integer to check if it is an Armstrong Number or not: 849\n",
      "849 is NOT an Armstrong Number.\n",
      "Enter a positive integer to check if it is an Armstrong Number or not: 371\n",
      "371 is an Armstrong Number.\n",
      "Enter a positive integer to check if it is an Armstrong Number or not: \n"
     ]
    }
   ],
   "source": [
    "while True:\n",
    "    n = input(\"Enter a positive integer to check if it is an Armstrong Number or not: \")\n",
    "    if n == \"\":\n",
    "        break\n",
    "    sumCube = 0\n",
    "    for digit in n:\n",
    "        sumCube += int(digit)**3\n",
    "    if sumCube == int(n):\n",
    "        print(n + \" is an Armstrong Number.\")\n",
    "    else:\n",
    "        print(n + \" is NOT an Armstrong Number.\")"
   ]
  }
 ],
 "metadata": {
  "kernelspec": {
   "display_name": "Python 3",
   "language": "python",
   "name": "python3"
  },
  "language_info": {
   "codemirror_mode": {
    "name": "ipython",
    "version": 3
   },
   "file_extension": ".py",
   "mimetype": "text/x-python",
   "name": "python",
   "nbconvert_exporter": "python",
   "pygments_lexer": "ipython3",
   "version": "3.8.8"
  },
  "latex_envs": {
   "LaTeX_envs_menu_present": true,
   "autoclose": false,
   "autocomplete": true,
   "bibliofile": "biblio.bib",
   "cite_by": "apalike",
   "current_citInitial": 1,
   "eqLabelWithNumbers": true,
   "eqNumInitial": 1,
   "hotkeys": {
    "equation": "Ctrl-E",
    "itemize": "Ctrl-I"
   },
   "labels_anchors": false,
   "latex_user_defs": false,
   "report_style_numbering": false,
   "user_envs_cfg": false
  },
  "toc": {
   "base_numbering": 1,
   "nav_menu": {},
   "number_sections": true,
   "sideBar": true,
   "skip_h1_title": false,
   "title_cell": "Table of Contents",
   "title_sidebar": "Contents",
   "toc_cell": false,
   "toc_position": {},
   "toc_section_display": true,
   "toc_window_display": false
  },
  "varInspector": {
   "cols": {
    "lenName": 16,
    "lenType": 16,
    "lenVar": 40
   },
   "kernels_config": {
    "python": {
     "delete_cmd_postfix": "",
     "delete_cmd_prefix": "del ",
     "library": "var_list.py",
     "varRefreshCmd": "print(var_dic_list())"
    },
    "r": {
     "delete_cmd_postfix": ") ",
     "delete_cmd_prefix": "rm(",
     "library": "var_list.r",
     "varRefreshCmd": "cat(var_dic_list()) "
    }
   },
   "types_to_exclude": [
    "module",
    "function",
    "builtin_function_or_method",
    "instance",
    "_Feature"
   ],
   "window_display": false
  }
 },
 "nbformat": 4,
 "nbformat_minor": 5
}
