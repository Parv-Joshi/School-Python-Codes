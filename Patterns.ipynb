{
 "cells": [
  {
   "cell_type": "markdown",
   "id": "c2e12b09",
   "metadata": {},
   "source": [
    "##### Exercise. Create a program that creates the following patterns given user input."
   ]
  },
  {
   "cell_type": "markdown",
   "id": "43c71116",
   "metadata": {},
   "source": [
    "###### Ask the user to input a positive integer above 1, and displays the following pattern: (in this example, n = 7)\n",
    "\n",
    "7\t6\t5\t4\t3\t2\t1\t\n",
    "6\t5\t4\t3\t2\t1\t\n",
    "5\t4\t3\t2\t1\t\n",
    "4\t3\t2\t1\t\n",
    "3\t2\t1\t\n",
    "2\t1\t\n",
    "1\t"
   ]
  },
  {
   "cell_type": "code",
   "execution_count": 1,
   "id": "7f23f641",
   "metadata": {},
   "outputs": [
    {
     "name": "stdout",
     "output_type": "stream",
     "text": [
      "Enter a positive integer above 1: 9\n",
      "9\t8\t7\t6\t5\t4\t3\t2\t1\t\n",
      "8\t7\t6\t5\t4\t3\t2\t1\t\n",
      "7\t6\t5\t4\t3\t2\t1\t\n",
      "6\t5\t4\t3\t2\t1\t\n",
      "5\t4\t3\t2\t1\t\n",
      "4\t3\t2\t1\t\n",
      "3\t2\t1\t\n",
      "2\t1\t\n",
      "1\t\n"
     ]
    }
   ],
   "source": [
    "while True:\n",
    "    try:\n",
    "        n=int(input(\"Enter a positive integer above 1: \"))\n",
    "        if n < 1: raise ValueError\n",
    "        break\n",
    "    except ValueError:\n",
    "        print(\"Invalid entry. Please try again\")\n",
    "    \n",
    "for i in range(n-1,-1,-1):\n",
    "    for j in range(i+1,0,-1):\n",
    "        print(j, end = \"\\t\")\n",
    "    print()"
   ]
  },
  {
   "cell_type": "markdown",
   "id": "f492108e",
   "metadata": {},
   "source": [
    "###### Ask the user to input a positive integer above 1, and displays the following pattern: (in this example, n = 4)\n",
    "\n",
    " 1\n",
    " \n",
    " 12\n",
    " \n",
    " 123\n",
    " \n",
    " 1234"
   ]
  },
  {
   "cell_type": "code",
   "execution_count": 5,
   "id": "e69ce7aa",
   "metadata": {},
   "outputs": [
    {
     "name": "stdout",
     "output_type": "stream",
     "text": [
      "Enter a positive integer above 1: 6\n",
      "1\t\n",
      "1\t2\t\n",
      "1\t2\t3\t\n",
      "1\t2\t3\t4\t\n",
      "1\t2\t3\t4\t5\t\n",
      "1\t2\t3\t4\t5\t6\t\n"
     ]
    }
   ],
   "source": [
    "while True:\n",
    "    try:\n",
    "        n=int(input(\"Enter a positive integer above 1: \"))\n",
    "        if n < 1: raise ValueError\n",
    "        break\n",
    "    except ValueError:\n",
    "        print(\"Invalid entry. Please try again\")\n",
    "\n",
    "for i in range(1, n+1):\n",
    "    for j in range(1, i+1):\n",
    "        print(j, end = \"\\t\")\n",
    "    print()"
   ]
  },
  {
   "cell_type": "markdown",
   "id": "fdc33ec0",
   "metadata": {},
   "source": [
    "###### Ask the user to input a positive integer above 1, and displays the following pattern: (in this example, n = 4)\n",
    "\n",
    " 1\n",
    " \n",
    " 22\n",
    " \n",
    " 333\n",
    " \n",
    " 4444"
   ]
  },
  {
   "cell_type": "code",
   "execution_count": 6,
   "id": "92405dbd",
   "metadata": {},
   "outputs": [
    {
     "name": "stdout",
     "output_type": "stream",
     "text": [
      "Enter a positive integer above 1: 7\n",
      "1\t\n",
      "2\t2\t\n",
      "3\t3\t3\t\n",
      "4\t4\t4\t4\t\n",
      "5\t5\t5\t5\t5\t\n",
      "6\t6\t6\t6\t6\t6\t\n",
      "7\t7\t7\t7\t7\t7\t7\t\n"
     ]
    }
   ],
   "source": [
    "while True:\n",
    "    try:\n",
    "        n=int(input(\"Enter a positive integer above 1: \"))\n",
    "        if n < 1: raise ValueError\n",
    "        break\n",
    "    except ValueError:\n",
    "        print(\"Invalid entry. Please try again\")\n",
    "\n",
    "for i in range(1, n+1):\n",
    "    for j in range(1, i+1):\n",
    "        print(i, end = \"\\t\")\n",
    "    print()"
   ]
  },
  {
   "cell_type": "markdown",
   "id": "be60688e",
   "metadata": {},
   "source": [
    "###### Ask the user to input a positive integer above 1, and displays the following pattern: (in this example, n = 4)\n",
    "\n",
    "1234\n",
    "\n",
    "123\n",
    "\n",
    "12\n",
    "\n",
    "1"
   ]
  },
  {
   "cell_type": "code",
   "execution_count": 7,
   "id": "0d78085d",
   "metadata": {},
   "outputs": [
    {
     "name": "stdout",
     "output_type": "stream",
     "text": [
      "Enter a positive integer above 1: 5\n",
      "1\t2\t3\t4\t5\t\n",
      "1\t2\t3\t4\t\n",
      "1\t2\t3\t\n",
      "1\t2\t\n",
      "1\t\n"
     ]
    }
   ],
   "source": [
    "while True:\n",
    "    try:\n",
    "        n=int(input(\"Enter a positive integer above 1: \"))\n",
    "        if n < 1: raise ValueError\n",
    "        break\n",
    "    except ValueError:\n",
    "        print(\"Invalid entry. Please try again\")\n",
    "\n",
    "for i in range(n, 0, -1):\n",
    "    for j in range(1, i+1):\n",
    "        print(j, end = \"\\t\")\n",
    "    print()"
   ]
  },
  {
   "cell_type": "markdown",
   "id": "9d97d1c8",
   "metadata": {},
   "source": [
    "###### Ask the user to input a positive integer above 1, and displays the following pattern: (in this example, n = 4)\n",
    "\n",
    " 4444\n",
    " \n",
    " 333\n",
    " \n",
    " 22\n",
    " \n",
    " 1"
   ]
  },
  {
   "cell_type": "code",
   "execution_count": 8,
   "id": "0cfb2fd6",
   "metadata": {},
   "outputs": [
    {
     "name": "stdout",
     "output_type": "stream",
     "text": [
      "Enter a positive integer above 1: 7\n",
      "7\t7\t7\t7\t7\t7\t7\t\n",
      "6\t6\t6\t6\t6\t6\t\n",
      "5\t5\t5\t5\t5\t\n",
      "4\t4\t4\t4\t\n",
      "3\t3\t3\t\n",
      "2\t2\t\n",
      "1\t\n"
     ]
    }
   ],
   "source": [
    "while True:\n",
    "    try:\n",
    "        n=int(input(\"Enter a positive integer above 1: \"))\n",
    "        if n < 1: raise ValueError\n",
    "        break\n",
    "    except ValueError:\n",
    "        print(\"Invalid entry. Please try again\")\n",
    "\n",
    "for i in range(n, 0, -1):\n",
    "    for j in range(1, i+1):\n",
    "        print(i, end = \"\\t\")\n",
    "    print()"
   ]
  },
  {
   "cell_type": "markdown",
   "id": "9fe18b4c",
   "metadata": {},
   "source": [
    "###### Ask the user to input a positive integer above 1, and displays the following pattern: (in this example, n = 4)\n",
    "\n",
    " \t \t \t \t1\t\n",
    " \t \t \t1\t2\t       \n",
    " \t \t1\t2\t3\t        \n",
    " \t1\t2\t3\t4"
   ]
  },
  {
   "cell_type": "code",
   "execution_count": 16,
   "id": "757511eb",
   "metadata": {},
   "outputs": [
    {
     "name": "stdout",
     "output_type": "stream",
     "text": [
      "Enter a positive integer above 1: 6\n",
      " \t \t \t \t \t \t1\t\n",
      " \t \t \t \t \t1\t2\t\n",
      " \t \t \t \t1\t2\t3\t\n",
      " \t \t \t1\t2\t3\t4\t\n",
      " \t \t1\t2\t3\t4\t5\t\n",
      " \t1\t2\t3\t4\t5\t6\t\n"
     ]
    }
   ],
   "source": [
    "while True:\n",
    "    try:\n",
    "        n=int(input(\"Enter a positive integer above 1: \"))\n",
    "        if n < 1: raise ValueError\n",
    "        break\n",
    "    except ValueError:\n",
    "        print(\"Invalid entry. Please try again\")\n",
    "\n",
    "for i in range(1, n+1):\n",
    "    for j in range(n-i+1):\n",
    "        print(\" \", end = \"\\t\")\n",
    "    for k in range(1, i+1):\n",
    "        print(k, end = \"\\t\")\n",
    "    print()"
   ]
  },
  {
   "cell_type": "markdown",
   "id": "2d320604",
   "metadata": {},
   "source": [
    "###### Ask the user to input a positive integer above 1, and displays the following pattern: (in this example, n = 4)\n",
    "          1\n",
    "        2 2\n",
    "      3 3 3\n",
    "    4 4 4 4"
   ]
  },
  {
   "cell_type": "code",
   "execution_count": 17,
   "id": "3a9e4511",
   "metadata": {},
   "outputs": [
    {
     "name": "stdout",
     "output_type": "stream",
     "text": [
      "Enter a positive integer above 1: 7\n",
      " \t \t \t \t \t \t \t1\t\n",
      " \t \t \t \t \t \t2\t2\t\n",
      " \t \t \t \t \t3\t3\t3\t\n",
      " \t \t \t \t4\t4\t4\t4\t\n",
      " \t \t \t5\t5\t5\t5\t5\t\n",
      " \t \t6\t6\t6\t6\t6\t6\t\n",
      " \t7\t7\t7\t7\t7\t7\t7\t\n"
     ]
    }
   ],
   "source": [
    "while True:\n",
    "    try:\n",
    "        n=int(input(\"Enter a positive integer above 1: \"))\n",
    "        if n < 1: raise ValueError\n",
    "        break\n",
    "    except ValueError:\n",
    "        print(\"Invalid entry. Please try again\")\n",
    "\n",
    "for i in range(1, n+1):\n",
    "    for j in range(n-i+1):\n",
    "        print(\" \", end = \"\\t\")\n",
    "    for k in range(1, i+1):\n",
    "        print(i, end = \"\\t\")\n",
    "    print()"
   ]
  },
  {
   "cell_type": "markdown",
   "id": "277b088a",
   "metadata": {},
   "source": [
    "######  Ask the user to input a positive integer above 1, and displays the following pattern: (in this example, n = 4)\n",
    "\n",
    "    1 2 3 4\n",
    "      1 2 3\n",
    "        1 2\n",
    "          1"
   ]
  },
  {
   "cell_type": "code",
   "execution_count": 23,
   "id": "4daee139",
   "metadata": {},
   "outputs": [
    {
     "name": "stdout",
     "output_type": "stream",
     "text": [
      "Enter a positive integer above 1: 6\n",
      " \t1\t2\t3\t4\t5\t6\t\n",
      " \t \t1\t2\t3\t4\t5\t\n",
      " \t \t \t1\t2\t3\t4\t\n",
      " \t \t \t \t1\t2\t3\t\n",
      " \t \t \t \t \t1\t2\t\n",
      " \t \t \t \t \t \t1\t\n"
     ]
    }
   ],
   "source": [
    "while True:\n",
    "    try:\n",
    "        n=int(input(\"Enter a positive integer above 1: \"))\n",
    "        if n < 1: raise ValueError\n",
    "        break\n",
    "    except ValueError:\n",
    "        print(\"Invalid entry. Please try again\")\n",
    "\n",
    "for i in range(1, n+1):\n",
    "    for j in range(i):\n",
    "        print(\" \", end = \"\\t\")\n",
    "    for k in range(1, n-i+2):\n",
    "        print(k, end = \"\\t\")\n",
    "    print()"
   ]
  },
  {
   "cell_type": "markdown",
   "id": "12657945",
   "metadata": {},
   "source": [
    "###### Ask the user to input a positive integer above 1, and displays the following pattern: (in this example, n = 4)\n",
    "\n",
    "    4 4 4 4\n",
    "      3 3 3\n",
    "        2 2\n",
    "          1"
   ]
  },
  {
   "cell_type": "code",
   "execution_count": 28,
   "id": "cffb2463",
   "metadata": {},
   "outputs": [
    {
     "name": "stdout",
     "output_type": "stream",
     "text": [
      "Enter a positive integer above 1: 5\n",
      "5\t5\t5\t5\t5\t\n",
      " \t4\t4\t4\t4\t\n",
      " \t \t3\t3\t3\t\n",
      " \t \t \t2\t2\t\n",
      " \t \t \t \t1\t\n"
     ]
    }
   ],
   "source": [
    "while True:\n",
    "    try:\n",
    "        n=int(input(\"Enter a positive integer above 1: \"))\n",
    "        if n < 1: raise ValueError\n",
    "        break\n",
    "    except ValueError:\n",
    "        print(\"Invalid entry. Please try again\")\n",
    "\n",
    "for i in range(n, 0, -1):\n",
    "    for j in range(n-i):\n",
    "        print(\" \", end = \"\\t\")\n",
    "    for k in range(i, 0, -1):\n",
    "        print(i, end = \"\\t\")\n",
    "    print()"
   ]
  },
  {
   "cell_type": "markdown",
   "id": "6dbe4c04",
   "metadata": {},
   "source": [
    "###### Ask the user to input a positive integer above 1, and displays the following pattern: (in this example, n = 4)\n",
    "          1\n",
    "        1 2 1\n",
    "      1 2 3 2 1\n",
    "    1 2 3 4 3 2 1"
   ]
  },
  {
   "cell_type": "code",
   "execution_count": 32,
   "id": "56807c6c",
   "metadata": {},
   "outputs": [
    {
     "name": "stdout",
     "output_type": "stream",
     "text": [
      "Enter a positive integer above 1: 8\n",
      " \t \t \t \t \t \t \t \t1\t\n",
      " \t \t \t \t \t \t \t1\t2\t1\t\n",
      " \t \t \t \t \t \t1\t2\t3\t2\t1\t\n",
      " \t \t \t \t \t1\t2\t3\t4\t3\t2\t1\t\n",
      " \t \t \t \t1\t2\t3\t4\t5\t4\t3\t2\t1\t\n",
      " \t \t \t1\t2\t3\t4\t5\t6\t5\t4\t3\t2\t1\t\n",
      " \t \t1\t2\t3\t4\t5\t6\t7\t6\t5\t4\t3\t2\t1\t\n",
      " \t1\t2\t3\t4\t5\t6\t7\t8\t7\t6\t5\t4\t3\t2\t1\t\n"
     ]
    }
   ],
   "source": [
    "while True:\n",
    "    try:\n",
    "        n=int(input(\"Enter a positive integer above 1: \"))\n",
    "        if n < 1: raise ValueError\n",
    "        break\n",
    "    except ValueError:\n",
    "        print(\"Invalid entry. Please try again\")\n",
    "\n",
    "for i in range(1, n+1):\n",
    "    for j in range(n-i+1):\n",
    "        print(\" \", end = \"\\t\")\n",
    "    for k in range(1, i+1):\n",
    "        print(k, end = \"\\t\")\n",
    "    for l in range(i-1, 0, -1):\n",
    "        print(l, end = \"\\t\")\n",
    "    print()"
   ]
  },
  {
   "cell_type": "markdown",
   "id": "1ff5ebbf",
   "metadata": {},
   "source": [
    "###### Ask the user to input a positive integer above 1, and displays the following pattern: (in this example, n = 4)\n",
    "          1\n",
    "        1 2 1\n",
    "      1 2 3 2 1\n",
    "    1 2 3 4 3 2 1\n",
    "    1 2 3 4 3 2 1\n",
    "      1 2 3 2 1\n",
    "        1 2 1\n",
    "          1"
   ]
  },
  {
   "cell_type": "code",
   "execution_count": 35,
   "id": "7993abba",
   "metadata": {},
   "outputs": [
    {
     "name": "stdout",
     "output_type": "stream",
     "text": [
      "Enter a positive integer above 1: 5\n",
      " \t \t \t \t \t1\t\n",
      " \t \t \t \t1\t2\t1\t\n",
      " \t \t \t1\t2\t3\t2\t1\t\n",
      " \t \t1\t2\t3\t4\t3\t2\t1\t\n",
      " \t1\t2\t3\t4\t5\t4\t3\t2\t1\t\n",
      " \t1\t2\t3\t4\t5\t4\t3\t2\t1\t\n",
      " \t \t1\t2\t3\t4\t3\t2\t1\t\n",
      " \t \t \t1\t2\t3\t2\t1\t\n",
      " \t \t \t \t1\t2\t1\t\n",
      " \t \t \t \t \t1\t\n"
     ]
    }
   ],
   "source": [
    "while True:\n",
    "    try:\n",
    "        n=int(input(\"Enter a positive integer above 1: \"))\n",
    "        if n < 1: raise ValueError\n",
    "        break\n",
    "    except ValueError:\n",
    "        print(\"Invalid entry. Please try again\")\n",
    "\n",
    "for i in range(1, n+1):\n",
    "    for j in range(n-i+1):\n",
    "        print(\" \", end = \"\\t\")\n",
    "    for k in range(1, i+1):\n",
    "        print(k, end = \"\\t\")\n",
    "    for l in range(i-1, 0, -1):\n",
    "        print(l, end = \"\\t\")\n",
    "    print()\n",
    "for i in range(n, 0, -1):\n",
    "    for j in range(n-i+1):\n",
    "        print(\" \", end = \"\\t\")\n",
    "    for k in range(1, i+1):\n",
    "        print(k, end = \"\\t\")\n",
    "    for l in range(i-1, 0, -1):\n",
    "        print(l, end = \"\\t\")\n",
    "    print()"
   ]
  },
  {
   "cell_type": "markdown",
   "id": "9274f111",
   "metadata": {},
   "source": [
    "###### Ask the user to input a positive integer above 1, and displays the following pattern: (in this example, n = 4)\n",
    "            *\n",
    "          * * #\n",
    "        * * * # #\n",
    "      * * * * # # #\n",
    "      @ @ @ @ $ $ $\n",
    "    @ @ @ $ $\n",
    "      @ @ $\n",
    "            @"
   ]
  },
  {
   "cell_type": "code",
   "execution_count": 37,
   "id": "751b002a",
   "metadata": {},
   "outputs": [
    {
     "name": "stdout",
     "output_type": "stream",
     "text": [
      "Enter a positive integer above 1: 8\n",
      " \t \t \t \t \t \t \t \t*\t\n",
      " \t \t \t \t \t \t \t*\t*\t#\t\n",
      " \t \t \t \t \t \t*\t*\t*\t#\t#\t\n",
      " \t \t \t \t \t*\t*\t*\t*\t#\t#\t#\t\n",
      " \t \t \t \t*\t*\t*\t*\t*\t#\t#\t#\t#\t\n",
      " \t \t \t*\t*\t*\t*\t*\t*\t#\t#\t#\t#\t#\t\n",
      " \t \t*\t*\t*\t*\t*\t*\t*\t#\t#\t#\t#\t#\t#\t\n",
      " \t*\t*\t*\t*\t*\t*\t*\t*\t#\t#\t#\t#\t#\t#\t#\t\n",
      " \t@\t@\t@\t@\t@\t@\t@\t@\t$\t$\t$\t$\t$\t$\t$\t\n",
      " \t \t@\t@\t@\t@\t@\t@\t@\t$\t$\t$\t$\t$\t$\t\n",
      " \t \t \t@\t@\t@\t@\t@\t@\t$\t$\t$\t$\t$\t\n",
      " \t \t \t \t@\t@\t@\t@\t@\t$\t$\t$\t$\t\n",
      " \t \t \t \t \t@\t@\t@\t@\t$\t$\t$\t\n",
      " \t \t \t \t \t \t@\t@\t@\t$\t$\t\n",
      " \t \t \t \t \t \t \t@\t@\t$\t\n",
      " \t \t \t \t \t \t \t \t@\t\n"
     ]
    }
   ],
   "source": [
    "while True:\n",
    "    try:\n",
    "        n=int(input(\"Enter a positive integer above 1: \"))\n",
    "        if n < 1: raise ValueError\n",
    "        break\n",
    "    except ValueError:\n",
    "        print(\"Invalid entry. Please try again\")\n",
    "\n",
    "for i in range(1, n+1):\n",
    "    for j in range(n-i+1):\n",
    "        print(\" \", end = \"\\t\")\n",
    "    for k in range(1, i+1):\n",
    "        print(\"*\", end = \"\\t\")\n",
    "    for l in range(i-1, 0, -1):\n",
    "        print(\"#\", end = \"\\t\")\n",
    "    print()\n",
    "for i in range(n, 0, -1):\n",
    "    for j in range(n-i+1):\n",
    "        print(\" \", end = \"\\t\")\n",
    "    for k in range(1, i+1):\n",
    "        print(\"@\", end = \"\\t\")\n",
    "    for l in range(i-1, 0, -1):\n",
    "        print(\"$\", end = \"\\t\")\n",
    "    print()"
   ]
  }
 ],
 "metadata": {
  "kernelspec": {
   "display_name": "Python 3",
   "language": "python",
   "name": "python3"
  },
  "language_info": {
   "codemirror_mode": {
    "name": "ipython",
    "version": 3
   },
   "file_extension": ".py",
   "mimetype": "text/x-python",
   "name": "python",
   "nbconvert_exporter": "python",
   "pygments_lexer": "ipython3",
   "version": "3.8.8"
  },
  "latex_envs": {
   "LaTeX_envs_menu_present": true,
   "autoclose": false,
   "autocomplete": true,
   "bibliofile": "biblio.bib",
   "cite_by": "apalike",
   "current_citInitial": 1,
   "eqLabelWithNumbers": true,
   "eqNumInitial": 1,
   "hotkeys": {
    "equation": "Ctrl-E",
    "itemize": "Ctrl-I"
   },
   "labels_anchors": false,
   "latex_user_defs": false,
   "report_style_numbering": false,
   "user_envs_cfg": false
  },
  "toc": {
   "base_numbering": 1,
   "nav_menu": {},
   "number_sections": true,
   "sideBar": true,
   "skip_h1_title": false,
   "title_cell": "Table of Contents",
   "title_sidebar": "Contents",
   "toc_cell": false,
   "toc_position": {},
   "toc_section_display": true,
   "toc_window_display": false
  },
  "varInspector": {
   "cols": {
    "lenName": 16,
    "lenType": 16,
    "lenVar": 40
   },
   "kernels_config": {
    "python": {
     "delete_cmd_postfix": "",
     "delete_cmd_prefix": "del ",
     "library": "var_list.py",
     "varRefreshCmd": "print(var_dic_list())"
    },
    "r": {
     "delete_cmd_postfix": ") ",
     "delete_cmd_prefix": "rm(",
     "library": "var_list.r",
     "varRefreshCmd": "cat(var_dic_list()) "
    }
   },
   "types_to_exclude": [
    "module",
    "function",
    "builtin_function_or_method",
    "instance",
    "_Feature"
   ],
   "window_display": false
  }
 },
 "nbformat": 4,
 "nbformat_minor": 5
}
