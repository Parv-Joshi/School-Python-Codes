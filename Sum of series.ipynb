{
 "cells": [
  {
   "cell_type": "markdown",
   "id": "28390e43",
   "metadata": {},
   "source": [
    "##### Excercise. Create a program that asks the user to input a number n, and finds the sum of the given series. Also, check if the sum is likely to converge or not.\n"
   ]
  },
  {
   "cell_type": "markdown",
   "id": "87a1ccc0",
   "metadata": {},
   "source": [
    "###### \n",
    "$ \\frac{1}{1!} + \\frac{2}{2!} +  ...  + \\frac{n}{n!} $"
   ]
  },
  {
   "cell_type": "code",
   "execution_count": 2,
   "id": "f73f08ce",
   "metadata": {},
   "outputs": [
    {
     "name": "stdout",
     "output_type": "stream",
     "text": [
      "Enter n: 2\n",
      "The required sum is: 2.0\n",
      "Enter n: 5\n",
      "The required sum is: 2.264033564814815\n",
      "Enter n: 8\n",
      "The required sum is: 2.264033805997176\n",
      "Enter n: 33\n",
      "The required sum is: 2.264033805997176\n",
      "Enter n: 56\n",
      "The required sum is: 2.264033805997176\n",
      "Enter n: \n"
     ]
    }
   ],
   "source": [
    "def sum(n):\n",
    "    s = 0\n",
    "    f = 1\n",
    "    for i in range(1, n+1):\n",
    "        for j in range(1, i+1):\n",
    "            f = f*j\n",
    "        s += i/f\n",
    "    print(\"The required sum is:\", s)\n",
    "    \n",
    "while True:\n",
    "    n = input(\"Enter n: \")\n",
    "    if n == \"\":\n",
    "        break\n",
    "    sum(int(n))"
   ]
  },
  {
   "cell_type": "markdown",
   "id": "2be28d21",
   "metadata": {},
   "source": [
    "Therefore, this sum is convergent at 2.264033805997176"
   ]
  },
  {
   "cell_type": "markdown",
   "id": "f00abd57",
   "metadata": {},
   "source": [
    "###### \n",
    "$ \\frac{1}{2} + \\frac{3}{4} +  ...  + \\frac{n-1}{n} $"
   ]
  },
  {
   "cell_type": "code",
   "execution_count": 8,
   "id": "a8c1bda5",
   "metadata": {},
   "outputs": [
    {
     "name": "stdout",
     "output_type": "stream",
     "text": [
      "\n",
      "Enter n (even): 4\n",
      "The sum of the series for n = 4 is 1.25.\n",
      "\n",
      "Enter n (even): 8\n",
      "The sum of the series for n = 8 is 2.9583333333333335.\n",
      "\n",
      "Enter n (even): 22\n",
      "The sum of the series for n = 22 is 9.490061327561328.\n",
      "\n",
      "Enter n (even): 56\n",
      "The sum of the series for n = 56 is 26.036414480516818.\n",
      "\n",
      "Enter n (even): 88\n",
      "The sum of the series for n = 88 is 41.813637053335455.\n",
      "\n",
      "Enter n (even): 222\n",
      "The sum of the series for n = 222 is 108.35437819637353.\n",
      "\n",
      "Enter n (even): 874\n",
      "The sum of the series for n = 874 is 433.6708537058073.\n",
      "\n",
      "Enter n (even): 1000\n",
      "The sum of the series for n = 1000 is 496.60358828500523.\n",
      "\n",
      "Enter n (even): 2000\n",
      "The sum of the series for n = 2000 is 996.2572645697257.\n",
      "\n",
      "Enter n (even): 7000\n",
      "The sum of the series for n = 7000 is 3495.6310616186333.\n",
      "\n",
      "Enter n (even): \n"
     ]
    }
   ],
   "source": [
    "while True:\n",
    "    n = input(\"\\nEnter n (even): \")\n",
    "    if n == \"\":\n",
    "        break\n",
    "    n = int(n)\n",
    "    sum = 0.0\n",
    "    for i in range(1, n+1, 2):\n",
    "        sum += i/(i+1)\n",
    "    print(f\"The sum of the series for n = {n} is {sum}.\")"
   ]
  },
  {
   "cell_type": "markdown",
   "id": "14c88802",
   "metadata": {},
   "source": [
    "Therefore, this sum is not likely to converge."
   ]
  },
  {
   "cell_type": "markdown",
   "id": "4f88cb14",
   "metadata": {},
   "source": [
    "###### \n",
    "$ 1 + (1+2) + (1+2+3) + ... + (1+2+3+...+n) $"
   ]
  },
  {
   "cell_type": "code",
   "execution_count": 9,
   "id": "43648e62",
   "metadata": {},
   "outputs": [
    {
     "name": "stdout",
     "output_type": "stream",
     "text": [
      "\n",
      "Enter n: 4\n",
      "The sum of the series for n = 4 is 20.0.\n",
      "\n",
      "Enter n: 7\n",
      "The sum of the series for n = 7 is 84.0.\n",
      "\n",
      "Enter n: 67\n",
      "The sum of the series for n = 67 is 52394.0.\n",
      "\n",
      "Enter n: 87\n",
      "The sum of the series for n = 87 is 113564.0.\n",
      "\n",
      "Enter n: \n"
     ]
    }
   ],
   "source": [
    "while True:\n",
    "    n = input(\"\\nEnter n: \")\n",
    "    if n == \"\":\n",
    "        break\n",
    "    n = int(n)\n",
    "    sum = 0.0\n",
    "    for i in range(1, n+1):\n",
    "        for j in range(1, i+1):\n",
    "            sum += j\n",
    "    print(f\"The sum of the series for n = {n} is {sum}.\")"
   ]
  },
  {
   "cell_type": "markdown",
   "id": "7363f1c8",
   "metadata": {},
   "source": [
    "Therefore, this sum will not converge."
   ]
  },
  {
   "cell_type": "markdown",
   "id": "5fe6f26c",
   "metadata": {},
   "source": [
    "###### \n",
    "$ \\frac{1}{2!} + \\frac{3}{4!} +  ...  + \\frac{n-1}{n!} $"
   ]
  },
  {
   "cell_type": "code",
   "execution_count": 11,
   "id": "5867a64b",
   "metadata": {},
   "outputs": [
    {
     "name": "stdout",
     "output_type": "stream",
     "text": [
      "\n",
      "Enter n (even): 4\n",
      "The sum of the series for n = 4 is 0.625.\n",
      "\n",
      "Enter n (even): 8\n",
      "The sum of the series for n = 8 is 0.6321180555555556.\n",
      "\n",
      "Enter n (even): 22\n",
      "The sum of the series for n = 22 is 0.6321205588285577.\n",
      "\n",
      "Enter n (even): 66\n",
      "The sum of the series for n = 66 is 0.6321205588285577.\n",
      "\n",
      "Enter n (even): \n"
     ]
    }
   ],
   "source": [
    "from math import factorial\n",
    "\n",
    "while True:\n",
    "    n = input(\"\\nEnter n (even): \")\n",
    "    if n == \"\":\n",
    "        break\n",
    "    n = int(n)\n",
    "    sum = 0.0\n",
    "    for i in range(1, n+1, 2):\n",
    "        sum += i/factorial((i+1))\n",
    "    print(f\"The sum of the series for n = {n} is {sum}.\")"
   ]
  },
  {
   "cell_type": "markdown",
   "id": "33bc5993",
   "metadata": {},
   "source": [
    "Therefore, this sum is convergent at 0.6321205588285577."
   ]
  },
  {
   "cell_type": "markdown",
   "id": "d0caae59",
   "metadata": {},
   "source": [
    "###### \n",
    "$ \\frac{1!}{x} - \\frac{3!}{x^2} + \\frac{5!}{x^3} - \\space ... \\space + (up \\space to \\space n \\space terms) $"
   ]
  },
  {
   "cell_type": "code",
   "execution_count": 16,
   "id": "594409c2",
   "metadata": {
    "scrolled": true
   },
   "outputs": [
    {
     "name": "stdout",
     "output_type": "stream",
     "text": [
      "\n",
      "Enter n (number of terms): 3\n",
      "\n",
      "Enter x: 8\n",
      "The sum of the series for 3 terms is 0.265625.\n",
      "\n",
      "Enter n (number of terms): 9\n",
      "\n",
      "Enter x: 8\n",
      "The sum of the series for 9 terms is 2574961.4979248047.\n",
      "\n",
      "Enter n (number of terms): 6\n",
      "\n",
      "Enter x: 8\n",
      "The sum of the series for 6 terms is -142.1611328125.\n",
      "\n",
      "Enter n (number of terms): 5\n",
      "\n",
      "Enter x: 7\n",
      "The sum of the series for 5 terms is 19.86214077467722.\n",
      "\n",
      "Enter n (number of terms): 2\n",
      "\n",
      "Enter x: 12\n",
      "The sum of the series for 2 terms is 0.041666666666666664.\n",
      "\n",
      "Enter n (number of terms): 12\n",
      "\n",
      "Enter x: 2\n",
      "The sum of the series for 12 terms is -6.286698879435987e+18.\n",
      "\n",
      "Enter n (number of terms): \n"
     ]
    }
   ],
   "source": [
    "from math import factorial, pow\n",
    "\n",
    "while True:\n",
    "    n = input(\"\\nEnter n (number of terms): \")\n",
    "    if n == \"\":\n",
    "        break\n",
    "    n = int(n)\n",
    "    x = int(input(\"\\nEnter x: \"))\n",
    "    sum = 0.0\n",
    "    a, b = list(), list()\n",
    "    for i in range(1, 2*n, 2):\n",
    "        a.append(factorial(i))\n",
    "    for j in range(1, n+1):\n",
    "        b.append(pow(x, j))\n",
    "    for k in range(len(a)):\n",
    "        if k%2 == 0:\n",
    "            sum += a[k]/b[k]\n",
    "        else:\n",
    "            sum -= a[k]/b[k]\n",
    "    print(f\"The sum of the series for {n} terms is {sum}.\")"
   ]
  },
  {
   "cell_type": "markdown",
   "id": "14569e75",
   "metadata": {},
   "source": [
    "Therefore, this sum is not likely to converge."
   ]
  },
  {
   "cell_type": "markdown",
   "id": "3c8fde74",
   "metadata": {},
   "source": [
    "###### Pi Series\n",
    "$ 4 \\space (1 - \\frac{1}{3} + \\frac{1}{5} - \\frac{1}{7} + \\frac{1}{9} \\space ... \\space + (up \\space to \\space n \\space terms)) $"
   ]
  },
  {
   "cell_type": "code",
   "execution_count": 22,
   "id": "2b16f596",
   "metadata": {},
   "outputs": [
    {
     "name": "stdout",
     "output_type": "stream",
     "text": [
      "\n",
      "Enter n (number of terms) (grater than 1): 30\n",
      "The sum of the pi series for 30 terms is 3.108268566698947.\n",
      "\n",
      "Enter n (number of terms) (grater than 1): 50\n",
      "The sum of the pi series for 50 terms is 3.121594652591011.\n",
      "\n",
      "Enter n (number of terms) (grater than 1): 80\n",
      "The sum of the pi series for 80 terms is 3.129093141775721.\n",
      "\n",
      "Enter n (number of terms) (grater than 1): 125\n",
      "The sum of the pi series for 125 terms is 3.1495925256000317.\n",
      "\n",
      "Enter n (number of terms) (grater than 1): 200\n",
      "The sum of the pi series for 200 terms is 3.136592684838816.\n",
      "\n",
      "Enter n (number of terms) (grater than 1): 400\n",
      "The sum of the pi series for 400 terms is 3.1390926574960143.\n",
      "\n",
      "Enter n (number of terms) (grater than 1): 900\n",
      "The sum of the pi series for 900 terms is 3.140481542821618.\n",
      "\n",
      "Enter n (number of terms) (grater than 1): 2000\n",
      "The sum of the pi series for 2000 terms is 3.1410926536210413.\n",
      "\n",
      "Enter n (number of terms) (grater than 1): 4000\n",
      "The sum of the pi series for 4000 terms is 3.1413426535937043.\n",
      "\n",
      "Enter n (number of terms) (grater than 1): 9000\n",
      "The sum of the pi series for 9000 terms is 3.1414815424790095.\n",
      "\n",
      "Enter n (number of terms) (grater than 1): 100000\n",
      "The sum of the pi series for 100000 terms is 3.1415826535897198.\n",
      "\n",
      "Enter n (number of terms) (grater than 1): \n"
     ]
    }
   ],
   "source": [
    "while True:\n",
    "    n = input(\"\\nEnter n (number of terms) (grater than 1): \")\n",
    "    if n == \"\":\n",
    "        break\n",
    "    n = int(n)\n",
    "    l = list()\n",
    "    sum_ = 1.0\n",
    "    for i in range(3, (2*n), 2):\n",
    "        l.append(i)\n",
    "    for j in range(len(l)):\n",
    "        if j%2 == 0:\n",
    "            sum_ -= 1/l[j]\n",
    "        else:\n",
    "            sum_ += 1/l[j]\n",
    "    sum = 4*sum_\n",
    "    print(f\"The sum of the pi series for {n} terms is {sum}.\")"
   ]
  },
  {
   "cell_type": "markdown",
   "id": "345bd3d4",
   "metadata": {},
   "source": [
    "Therefore, the pi series does converge to the known value of pi, i.e., 3.1415."
   ]
  }
 ],
 "metadata": {
  "kernelspec": {
   "display_name": "Python 3",
   "language": "python",
   "name": "python3"
  },
  "language_info": {
   "codemirror_mode": {
    "name": "ipython",
    "version": 3
   },
   "file_extension": ".py",
   "mimetype": "text/x-python",
   "name": "python",
   "nbconvert_exporter": "python",
   "pygments_lexer": "ipython3",
   "version": "3.8.8"
  },
  "latex_envs": {
   "LaTeX_envs_menu_present": true,
   "autoclose": false,
   "autocomplete": true,
   "bibliofile": "biblio.bib",
   "cite_by": "apalike",
   "current_citInitial": 1,
   "eqLabelWithNumbers": true,
   "eqNumInitial": 1,
   "hotkeys": {
    "equation": "Ctrl-E",
    "itemize": "Ctrl-I"
   },
   "labels_anchors": false,
   "latex_user_defs": false,
   "report_style_numbering": false,
   "user_envs_cfg": false
  },
  "toc": {
   "base_numbering": 1,
   "nav_menu": {},
   "number_sections": true,
   "sideBar": true,
   "skip_h1_title": false,
   "title_cell": "Table of Contents",
   "title_sidebar": "Contents",
   "toc_cell": false,
   "toc_position": {},
   "toc_section_display": true,
   "toc_window_display": false
  },
  "varInspector": {
   "cols": {
    "lenName": 16,
    "lenType": 16,
    "lenVar": 40
   },
   "kernels_config": {
    "python": {
     "delete_cmd_postfix": "",
     "delete_cmd_prefix": "del ",
     "library": "var_list.py",
     "varRefreshCmd": "print(var_dic_list())"
    },
    "r": {
     "delete_cmd_postfix": ") ",
     "delete_cmd_prefix": "rm(",
     "library": "var_list.r",
     "varRefreshCmd": "cat(var_dic_list()) "
    }
   },
   "types_to_exclude": [
    "module",
    "function",
    "builtin_function_or_method",
    "instance",
    "_Feature"
   ],
   "window_display": false
  }
 },
 "nbformat": 4,
 "nbformat_minor": 5
}
