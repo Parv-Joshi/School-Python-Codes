{
 "cells": [
  {
   "cell_type": "markdown",
   "id": "6d2199a2",
   "metadata": {},
   "source": [
    "###### Excercise. Create a program that asks the user to input a string, check if it is a palindrome, count the number of words in it, and count the number of lowercase and uppercase alphabets in it."
   ]
  },
  {
   "cell_type": "code",
   "execution_count": 1,
   "id": "deb594e0",
   "metadata": {},
   "outputs": [],
   "source": [
    "def input_sting():\n",
    "    global str\n",
    "    str = input(\"Enter a string: \")\n",
    "    print(\"String recoreded.\")"
   ]
  },
  {
   "cell_type": "code",
   "execution_count": 2,
   "id": "c4229725",
   "metadata": {},
   "outputs": [],
   "source": [
    "def palindrome(str):\n",
    "    rev = \"\"\n",
    "    for i in str:\n",
    "        rev = i + rev\n",
    "    if str == rev:\n",
    "        print(\"'\"+ str + \"'\", \"is a plaindrome!\")\n",
    "    else:\n",
    "        print(\"'\"+ str + \"'\", \"is not a palindrome!\")"
   ]
  },
  {
   "cell_type": "code",
   "execution_count": 3,
   "id": "fdf1f386",
   "metadata": {},
   "outputs": [],
   "source": [
    "def words(str):\n",
    "    split = str.split()\n",
    "    print(\"The no. of words are:\", len(split))"
   ]
  },
  {
   "cell_type": "code",
   "execution_count": 4,
   "id": "548d4eaf",
   "metadata": {},
   "outputs": [],
   "source": [
    "def upper(str):\n",
    "    count = 0\n",
    "    for i in str:\n",
    "        if i.isupper():\n",
    "            count += 1\n",
    "    print(\"The no. of uppercase alphabets are:\", count)"
   ]
  },
  {
   "cell_type": "code",
   "execution_count": 5,
   "id": "110d5207",
   "metadata": {},
   "outputs": [],
   "source": [
    "def lower(str):\n",
    "    count = 0\n",
    "    for i in str:\n",
    "        if i.islower():\n",
    "            count += 1\n",
    "    print(\"The no. of lowercase alphabets are:\", count)"
   ]
  },
  {
   "cell_type": "code",
   "execution_count": 6,
   "id": "43dd1dd6",
   "metadata": {},
   "outputs": [],
   "source": [
    "def main():\n",
    "    choice = 0\n",
    "    while choice != 6:\n",
    "        print(\"\\n********** MAIN MENU **********\")\n",
    "        print(\"1. Input String\")\n",
    "        print(\"2. Check srting for palindrome\")\n",
    "        print(\"3. Count no. of words\")\n",
    "        print(\"4. Count no. of lowercase alphabets\")\n",
    "        print(\"5. Count no. of uppercase alphabets\")\n",
    "        print(\"6. Exit\")\n",
    "        print(\"*******************************\\n\")\n",
    "        choice = eval(input(\"Enter your choice: \"))\n",
    "        if choice == 1:\n",
    "            input_sting()\n",
    "        elif choice == 2:\n",
    "            palindrome(str)\n",
    "        elif choice == 3:\n",
    "            words(str)\n",
    "        elif choice == 4:\n",
    "            lower(str)\n",
    "        elif choice == 5:\n",
    "            upper(str)\n",
    "        elif choice == 6:\n",
    "            print(\"Ending the program!\")"
   ]
  },
  {
   "cell_type": "code",
   "execution_count": 7,
   "id": "f759c1a2",
   "metadata": {},
   "outputs": [
    {
     "name": "stdout",
     "output_type": "stream",
     "text": [
      "\n",
      "********** MAIN MENU **********\n",
      "1. Input String\n",
      "2. Check srting for palindrome\n",
      "3. Count no. of words\n",
      "4. Count no. of lowercase alphabets\n",
      "5. Count no. of uppercase alphabets\n",
      "6. Exit\n",
      "*******************************\n",
      "\n",
      "Enter your choice: 1\n",
      "Enter a string: This Is Sample Text\n",
      "String recoreded.\n",
      "\n",
      "********** MAIN MENU **********\n",
      "1. Input String\n",
      "2. Check srting for palindrome\n",
      "3. Count no. of words\n",
      "4. Count no. of lowercase alphabets\n",
      "5. Count no. of uppercase alphabets\n",
      "6. Exit\n",
      "*******************************\n",
      "\n",
      "Enter your choice: 2\n",
      "'This Is Sample Text' is not a palindrome!\n",
      "\n",
      "********** MAIN MENU **********\n",
      "1. Input String\n",
      "2. Check srting for palindrome\n",
      "3. Count no. of words\n",
      "4. Count no. of lowercase alphabets\n",
      "5. Count no. of uppercase alphabets\n",
      "6. Exit\n",
      "*******************************\n",
      "\n",
      "Enter your choice: 3\n",
      "The no. of words are: 4\n",
      "\n",
      "********** MAIN MENU **********\n",
      "1. Input String\n",
      "2. Check srting for palindrome\n",
      "3. Count no. of words\n",
      "4. Count no. of lowercase alphabets\n",
      "5. Count no. of uppercase alphabets\n",
      "6. Exit\n",
      "*******************************\n",
      "\n",
      "Enter your choice: 4\n",
      "The no. of lowercase alphabets are: 12\n",
      "\n",
      "********** MAIN MENU **********\n",
      "1. Input String\n",
      "2. Check srting for palindrome\n",
      "3. Count no. of words\n",
      "4. Count no. of lowercase alphabets\n",
      "5. Count no. of uppercase alphabets\n",
      "6. Exit\n",
      "*******************************\n",
      "\n",
      "Enter your choice: 5\n",
      "The no. of uppercase alphabets are: 4\n",
      "\n",
      "********** MAIN MENU **********\n",
      "1. Input String\n",
      "2. Check srting for palindrome\n",
      "3. Count no. of words\n",
      "4. Count no. of lowercase alphabets\n",
      "5. Count no. of uppercase alphabets\n",
      "6. Exit\n",
      "*******************************\n",
      "\n",
      "Enter your choice: 1\n",
      "Enter a string: deified\n",
      "String recoreded.\n",
      "\n",
      "********** MAIN MENU **********\n",
      "1. Input String\n",
      "2. Check srting for palindrome\n",
      "3. Count no. of words\n",
      "4. Count no. of lowercase alphabets\n",
      "5. Count no. of uppercase alphabets\n",
      "6. Exit\n",
      "*******************************\n",
      "\n",
      "Enter your choice: 2\n",
      "'deified' is a plaindrome!\n",
      "\n",
      "********** MAIN MENU **********\n",
      "1. Input String\n",
      "2. Check srting for palindrome\n",
      "3. Count no. of words\n",
      "4. Count no. of lowercase alphabets\n",
      "5. Count no. of uppercase alphabets\n",
      "6. Exit\n",
      "*******************************\n",
      "\n",
      "Enter your choice: 3\n",
      "The no. of words are: 1\n",
      "\n",
      "********** MAIN MENU **********\n",
      "1. Input String\n",
      "2. Check srting for palindrome\n",
      "3. Count no. of words\n",
      "4. Count no. of lowercase alphabets\n",
      "5. Count no. of uppercase alphabets\n",
      "6. Exit\n",
      "*******************************\n",
      "\n",
      "Enter your choice: 4\n",
      "The no. of lowercase alphabets are: 7\n",
      "\n",
      "********** MAIN MENU **********\n",
      "1. Input String\n",
      "2. Check srting for palindrome\n",
      "3. Count no. of words\n",
      "4. Count no. of lowercase alphabets\n",
      "5. Count no. of uppercase alphabets\n",
      "6. Exit\n",
      "*******************************\n",
      "\n",
      "Enter your choice: 5\n",
      "The no. of uppercase alphabets are: 0\n",
      "\n",
      "********** MAIN MENU **********\n",
      "1. Input String\n",
      "2. Check srting for palindrome\n",
      "3. Count no. of words\n",
      "4. Count no. of lowercase alphabets\n",
      "5. Count no. of uppercase alphabets\n",
      "6. Exit\n",
      "*******************************\n",
      "\n",
      "Enter your choice: 6\n",
      "Ending the program!\n"
     ]
    }
   ],
   "source": [
    "main()"
   ]
  }
 ],
 "metadata": {
  "kernelspec": {
   "display_name": "Python 3",
   "language": "python",
   "name": "python3"
  },
  "language_info": {
   "codemirror_mode": {
    "name": "ipython",
    "version": 3
   },
   "file_extension": ".py",
   "mimetype": "text/x-python",
   "name": "python",
   "nbconvert_exporter": "python",
   "pygments_lexer": "ipython3",
   "version": "3.8.8"
  },
  "latex_envs": {
   "LaTeX_envs_menu_present": true,
   "autoclose": false,
   "autocomplete": true,
   "bibliofile": "biblio.bib",
   "cite_by": "apalike",
   "current_citInitial": 1,
   "eqLabelWithNumbers": true,
   "eqNumInitial": 1,
   "hotkeys": {
    "equation": "Ctrl-E",
    "itemize": "Ctrl-I"
   },
   "labels_anchors": false,
   "latex_user_defs": false,
   "report_style_numbering": false,
   "user_envs_cfg": false
  },
  "toc": {
   "base_numbering": 1,
   "nav_menu": {},
   "number_sections": true,
   "sideBar": true,
   "skip_h1_title": false,
   "title_cell": "Table of Contents",
   "title_sidebar": "Contents",
   "toc_cell": false,
   "toc_position": {},
   "toc_section_display": true,
   "toc_window_display": false
  },
  "varInspector": {
   "cols": {
    "lenName": 16,
    "lenType": 16,
    "lenVar": 40
   },
   "kernels_config": {
    "python": {
     "delete_cmd_postfix": "",
     "delete_cmd_prefix": "del ",
     "library": "var_list.py",
     "varRefreshCmd": "print(var_dic_list())"
    },
    "r": {
     "delete_cmd_postfix": ") ",
     "delete_cmd_prefix": "rm(",
     "library": "var_list.r",
     "varRefreshCmd": "cat(var_dic_list()) "
    }
   },
   "types_to_exclude": [
    "module",
    "function",
    "builtin_function_or_method",
    "instance",
    "_Feature"
   ],
   "window_display": false
  }
 },
 "nbformat": 4,
 "nbformat_minor": 5
}
