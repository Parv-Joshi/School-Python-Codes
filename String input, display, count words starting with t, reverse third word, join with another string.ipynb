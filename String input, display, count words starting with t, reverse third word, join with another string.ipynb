{
 "cells": [
  {
   "cell_type": "code",
   "execution_count": 16,
   "id": "e5628a0f",
   "metadata": {},
   "outputs": [],
   "source": [
    "def t(string):\n",
    "    count = 0\n",
    "    words = string.split()\n",
    "    for word in words:\n",
    "        if word[0].lower() == \"t\":\n",
    "            count += 1\n",
    "    print(\"The number of words starting with T/t are \" + str(count) + \".\")"
   ]
  },
  {
   "cell_type": "code",
   "execution_count": 17,
   "id": "fbe1d0a9",
   "metadata": {},
   "outputs": [],
   "source": [
    "def reverse_third(string):\n",
    "    words = string.split()\n",
    "    third_word = words[2]\n",
    "    reversed = \"\"\n",
    "    for alphabet in third_word:\n",
    "        reversed = alphabet + reversed\n",
    "    print(\"The third word reversed is \" + reversed)    "
   ]
  },
  {
   "cell_type": "code",
   "execution_count": 18,
   "id": "52a841d2",
   "metadata": {},
   "outputs": [],
   "source": [
    "def join(string):\n",
    "    s = input(\"Enter another string to join with: \")\n",
    "    print(\"The joint string is:\")\n",
    "    print(string + s)"
   ]
  },
  {
   "cell_type": "code",
   "execution_count": 19,
   "id": "020a0612",
   "metadata": {},
   "outputs": [],
   "source": [
    "def main():\n",
    "    choice = 0\n",
    "    while choice != 6:\n",
    "        print(\"\\n=================== MAIN MENU ===================\")\n",
    "        print(\"1. Enter a string\")\n",
    "        print(\"2. Display the string\")\n",
    "        print(\"3. Count number of words starting with T/t\")\n",
    "        print(\"4. Print reversed third word\")\n",
    "        print(\"5. Join string with another string\")\n",
    "        print(\"6. Quit\")\n",
    "        print(\"=================================================\\n\")\n",
    "\n",
    "        choice = int(input(\"Enter your choice: \"))\n",
    "        \n",
    "        if choice not in [1,2,3,4,5,6]:\n",
    "            print(\"Invalid input. Please try again later.\")\n",
    "            break\n",
    "        elif choice == 1:\n",
    "            string = input(\"Enter your string: \")\n",
    "            print(\"String stored.\")\n",
    "        elif choice == 2:\n",
    "            print(\"Your given string is: \")\n",
    "            print(string)\n",
    "        elif choice == 3:\n",
    "            t(string)\n",
    "        elif choice == 4:\n",
    "            reverse_third(string)\n",
    "        elif choice == 5:\n",
    "            join(string)\n",
    "    print(\"End of program.\")"
   ]
  },
  {
   "cell_type": "code",
   "execution_count": 20,
   "id": "89d26b97",
   "metadata": {},
   "outputs": [
    {
     "name": "stdout",
     "output_type": "stream",
     "text": [
      "\n",
      "=================== MAIN MENU ===================\n",
      "1. Enter a string\n",
      "2. Display the string\n",
      "3. Count number of words starting with T/t\n",
      "4. Print reversed third word\n",
      "5. Join string with another string\n",
      "6. Quit\n",
      "=================================================\n",
      "\n",
      "Enter your choice: 1\n",
      "Enter your string: This sample text is too small.\n",
      "String stored.\n",
      "\n",
      "=================== MAIN MENU ===================\n",
      "1. Enter a string\n",
      "2. Display the string\n",
      "3. Count number of words starting with T/t\n",
      "4. Print reversed third word\n",
      "5. Join string with another string\n",
      "6. Quit\n",
      "=================================================\n",
      "\n",
      "Enter your choice: 2\n",
      "Your given string is: \n",
      "This sample text is too small.\n",
      "\n",
      "=================== MAIN MENU ===================\n",
      "1. Enter a string\n",
      "2. Display the string\n",
      "3. Count number of words starting with T/t\n",
      "4. Print reversed third word\n",
      "5. Join string with another string\n",
      "6. Quit\n",
      "=================================================\n",
      "\n",
      "Enter your choice: 3\n",
      "The number of words starting with T/t are 3.\n",
      "\n",
      "=================== MAIN MENU ===================\n",
      "1. Enter a string\n",
      "2. Display the string\n",
      "3. Count number of words starting with T/t\n",
      "4. Print reversed third word\n",
      "5. Join string with another string\n",
      "6. Quit\n",
      "=================================================\n",
      "\n",
      "Enter your choice: 4\n",
      "The third word reversed is txet\n",
      "\n",
      "=================== MAIN MENU ===================\n",
      "1. Enter a string\n",
      "2. Display the string\n",
      "3. Count number of words starting with T/t\n",
      "4. Print reversed third word\n",
      "5. Join string with another string\n",
      "6. Quit\n",
      "=================================================\n",
      "\n",
      "Enter your choice: 5\n",
      "Enter another string to join with:  Wow!\n",
      "The joint string is:\n",
      "This sample text is too small. Wow!\n",
      "\n",
      "=================== MAIN MENU ===================\n",
      "1. Enter a string\n",
      "2. Display the string\n",
      "3. Count number of words starting with T/t\n",
      "4. Print reversed third word\n",
      "5. Join string with another string\n",
      "6. Quit\n",
      "=================================================\n",
      "\n",
      "Enter your choice: 6\n",
      "End of program.\n"
     ]
    }
   ],
   "source": [
    "main()"
   ]
  }
 ],
 "metadata": {
  "kernelspec": {
   "display_name": "Python 3",
   "language": "python",
   "name": "python3"
  },
  "language_info": {
   "codemirror_mode": {
    "name": "ipython",
    "version": 3
   },
   "file_extension": ".py",
   "mimetype": "text/x-python",
   "name": "python",
   "nbconvert_exporter": "python",
   "pygments_lexer": "ipython3",
   "version": "3.8.8"
  },
  "latex_envs": {
   "LaTeX_envs_menu_present": true,
   "autoclose": false,
   "autocomplete": true,
   "bibliofile": "biblio.bib",
   "cite_by": "apalike",
   "current_citInitial": 1,
   "eqLabelWithNumbers": true,
   "eqNumInitial": 1,
   "hotkeys": {
    "equation": "Ctrl-E",
    "itemize": "Ctrl-I"
   },
   "labels_anchors": false,
   "latex_user_defs": false,
   "report_style_numbering": false,
   "user_envs_cfg": false
  },
  "toc": {
   "base_numbering": 1,
   "nav_menu": {},
   "number_sections": true,
   "sideBar": true,
   "skip_h1_title": false,
   "title_cell": "Table of Contents",
   "title_sidebar": "Contents",
   "toc_cell": false,
   "toc_position": {},
   "toc_section_display": true,
   "toc_window_display": false
  },
  "varInspector": {
   "cols": {
    "lenName": 16,
    "lenType": 16,
    "lenVar": 40
   },
   "kernels_config": {
    "python": {
     "delete_cmd_postfix": "",
     "delete_cmd_prefix": "del ",
     "library": "var_list.py",
     "varRefreshCmd": "print(var_dic_list())"
    },
    "r": {
     "delete_cmd_postfix": ") ",
     "delete_cmd_prefix": "rm(",
     "library": "var_list.r",
     "varRefreshCmd": "cat(var_dic_list()) "
    }
   },
   "types_to_exclude": [
    "module",
    "function",
    "builtin_function_or_method",
    "instance",
    "_Feature"
   ],
   "window_display": false
  }
 },
 "nbformat": 4,
 "nbformat_minor": 5
}
