{
 "cells": [
  {
   "cell_type": "markdown",
   "id": "6bdbf825",
   "metadata": {},
   "source": [
    "###### Exercise. Create a program that asks a user to input a list with even number of elements, display it, switch positions of the odd/even index with its adjacent even/odd indexed number, and find the sum of odd and even digits."
   ]
  },
  {
   "cell_type": "markdown",
   "id": "7814b643",
   "metadata": {},
   "source": [
    "a = list, n = number of elements in list (even)"
   ]
  },
  {
   "cell_type": "code",
   "execution_count": 10,
   "id": "1c08bd18",
   "metadata": {},
   "outputs": [],
   "source": [
    "def input_list():\n",
    "    global n, a\n",
    "    n = int(input(\"Enter no. of elements (even): \"))\n",
    "    a = list(range(n))\n",
    "    print(\"Enter\", n, \"elements 1 by 1: \")\n",
    "    for i in range(n):\n",
    "        a[i] = int(input(f\"Enter number {i+1}: \"))"
   ]
  },
  {
   "cell_type": "code",
   "execution_count": 11,
   "id": "f542b49f",
   "metadata": {},
   "outputs": [],
   "source": [
    "def display_list(a, n):\n",
    "    for i in range(n):\n",
    "        print(a[i], end=' ')\n",
    "    print()"
   ]
  },
  {
   "cell_type": "code",
   "execution_count": 12,
   "id": "0db99d5c",
   "metadata": {},
   "outputs": [],
   "source": [
    "def alternate(a, n):\n",
    "    for i in range(0, n, 2):\n",
    "        a[i], a[i + 1] = a[i + 1], a[i]\n",
    "    print(\"The the rearrangend list is:\")\n",
    "    for i in range(n):\n",
    "        print(a[i], end=' ')\n",
    "    print()"
   ]
  },
  {
   "cell_type": "code",
   "execution_count": 13,
   "id": "50372a93",
   "metadata": {},
   "outputs": [],
   "source": [
    "def sum_odd_even(a, n):\n",
    "    odd, even = 0.0, 0.0\n",
    "    for i in range(n):\n",
    "        if a[i] % 2 == 0:\n",
    "            even += a[i]\n",
    "        else:\n",
    "            odd += a[i]\n",
    "    print(\"The sum of odd no.s is =\", odd)\n",
    "    print(\"The sum of even no.s is =\", even)\n",
    "    print()"
   ]
  },
  {
   "cell_type": "code",
   "execution_count": 14,
   "id": "1622eaff",
   "metadata": {},
   "outputs": [],
   "source": [
    "def main():\n",
    "    choice = 0\n",
    "    while choice != 5:\n",
    "        print(\"\\n********** MAIN MENU **********\")\n",
    "        print(\"1. Input List\")\n",
    "        print(\"2. Diaplsy List\")\n",
    "        print(\"3. Alternate Elements\")\n",
    "        print(\"4. Display the sum of odd elements and sum of even elements\")\n",
    "        print(\"5. Exit\")\n",
    "        print(\"*******************************\\n\")\n",
    "        choice = eval(input(\"Enter your choice: \"))\n",
    "        if choice == 1:\n",
    "            input_list()\n",
    "        elif choice == 2:\n",
    "            display_list(a, n)\n",
    "        elif choice == 3:\n",
    "            alternate(a, n)\n",
    "        elif choice == 4:\n",
    "            sum_odd_even(a, n)\n",
    "        elif choice == 5:\n",
    "            print(\"Ending the program!\")"
   ]
  },
  {
   "cell_type": "code",
   "execution_count": 15,
   "id": "3db08fb2",
   "metadata": {},
   "outputs": [
    {
     "name": "stdout",
     "output_type": "stream",
     "text": [
      "\n",
      "********** MAIN MENU **********\n",
      "1. Input List\n",
      "2. Diaplsy List\n",
      "3. Alternate Elements\n",
      "4.Display the sum of odd elements and sum of even elements\n",
      "5. Exit\n",
      "*******************************\n",
      "\n",
      "Enter your choice: 1\n",
      "Enter no. of elements (even): 8\n",
      "Enter 8 elements 1 by 1: \n",
      "Enter number 1: 1\n",
      "Enter number 2: 2\n",
      "Enter number 3: 3\n",
      "Enter number 4: 4\n",
      "Enter number 5: 5\n",
      "Enter number 6: 6\n",
      "Enter number 7: 7\n",
      "Enter number 8: 8\n",
      "\n",
      "********** MAIN MENU **********\n",
      "1. Input List\n",
      "2. Diaplsy List\n",
      "3. Alternate Elements\n",
      "4.Display the sum of odd elements and sum of even elements\n",
      "5. Exit\n",
      "*******************************\n",
      "\n",
      "Enter your choice: 2\n",
      "1 2 3 4 5 6 7 8 \n",
      "\n",
      "********** MAIN MENU **********\n",
      "1. Input List\n",
      "2. Diaplsy List\n",
      "3. Alternate Elements\n",
      "4.Display the sum of odd elements and sum of even elements\n",
      "5. Exit\n",
      "*******************************\n",
      "\n",
      "Enter your choice: 3\n",
      "The the rearrangend list is:\n",
      "2 1 4 3 6 5 8 7 \n",
      "\n",
      "********** MAIN MENU **********\n",
      "1. Input List\n",
      "2. Diaplsy List\n",
      "3. Alternate Elements\n",
      "4.Display the sum of odd elements and sum of even elements\n",
      "5. Exit\n",
      "*******************************\n",
      "\n",
      "Enter your choice: 4\n",
      "The sum of odd no.s is = 16.0\n",
      "The sum of even no.s is = 20.0\n",
      "\n",
      "\n",
      "********** MAIN MENU **********\n",
      "1. Input List\n",
      "2. Diaplsy List\n",
      "3. Alternate Elements\n",
      "4.Display the sum of odd elements and sum of even elements\n",
      "5. Exit\n",
      "*******************************\n",
      "\n",
      "Enter your choice: 5\n",
      "Ending the program!\n"
     ]
    }
   ],
   "source": [
    "main()"
   ]
  },
  {
   "cell_type": "code",
   "execution_count": null,
   "id": "c9acbc71",
   "metadata": {},
   "outputs": [],
   "source": []
  }
 ],
 "metadata": {
  "kernelspec": {
   "display_name": "Python 3",
   "language": "python",
   "name": "python3"
  },
  "language_info": {
   "codemirror_mode": {
    "name": "ipython",
    "version": 3
   },
   "file_extension": ".py",
   "mimetype": "text/x-python",
   "name": "python",
   "nbconvert_exporter": "python",
   "pygments_lexer": "ipython3",
   "version": "3.8.8"
  },
  "latex_envs": {
   "LaTeX_envs_menu_present": true,
   "autoclose": false,
   "autocomplete": true,
   "bibliofile": "biblio.bib",
   "cite_by": "apalike",
   "current_citInitial": 1,
   "eqLabelWithNumbers": true,
   "eqNumInitial": 1,
   "hotkeys": {
    "equation": "Ctrl-E",
    "itemize": "Ctrl-I"
   },
   "labels_anchors": false,
   "latex_user_defs": false,
   "report_style_numbering": false,
   "user_envs_cfg": false
  },
  "toc": {
   "base_numbering": 1,
   "nav_menu": {},
   "number_sections": true,
   "sideBar": true,
   "skip_h1_title": false,
   "title_cell": "Table of Contents",
   "title_sidebar": "Contents",
   "toc_cell": false,
   "toc_position": {},
   "toc_section_display": true,
   "toc_window_display": false
  },
  "varInspector": {
   "cols": {
    "lenName": 16,
    "lenType": 16,
    "lenVar": 40
   },
   "kernels_config": {
    "python": {
     "delete_cmd_postfix": "",
     "delete_cmd_prefix": "del ",
     "library": "var_list.py",
     "varRefreshCmd": "print(var_dic_list())"
    },
    "r": {
     "delete_cmd_postfix": ") ",
     "delete_cmd_prefix": "rm(",
     "library": "var_list.r",
     "varRefreshCmd": "cat(var_dic_list()) "
    }
   },
   "types_to_exclude": [
    "module",
    "function",
    "builtin_function_or_method",
    "instance",
    "_Feature"
   ],
   "window_display": false
  }
 },
 "nbformat": 4,
 "nbformat_minor": 5
}
