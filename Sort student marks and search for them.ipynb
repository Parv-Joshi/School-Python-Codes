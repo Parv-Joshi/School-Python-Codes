{
 "cells": [
  {
   "cell_type": "markdown",
   "id": "3df82b3c",
   "metadata": {},
   "source": [
    "###### Excercise. Create a program that inputs student marks, sorts them in ascending order, and searches for a particular mark and its position."
   ]
  },
  {
   "cell_type": "code",
   "execution_count": 1,
   "id": "d11a829f",
   "metadata": {},
   "outputs": [],
   "source": [
    "def input_marks():\n",
    "    global a, n\n",
    "    n = int(input(\"Enter no. of students: \"))\n",
    "    a = list()\n",
    "    print(\"Enter\", n, \"marks one by one: \")\n",
    "    for i in range(n):\n",
    "        a.append(int(input(f\"Enter mark {i+1}: \")))\n",
    "    print(\"The original list is:\", a)"
   ]
  },
  {
   "cell_type": "code",
   "execution_count": 2,
   "id": "8004c420",
   "metadata": {},
   "outputs": [],
   "source": [
    "def sort(a, n):\n",
    "    a.sort()\n",
    "    print(\"The sorted list is\", a)"
   ]
  },
  {
   "cell_type": "code",
   "execution_count": 3,
   "id": "5f036fc4",
   "metadata": {},
   "outputs": [],
   "source": [
    "def search(a, n):\n",
    "    find = int(input(\"Enter mark to be searched: \"))\n",
    "    for i, mark in enumerate(a):\n",
    "        if mark == find:\n",
    "            print(find, \"is found in list at position\", i+1)\n"
   ]
  },
  {
   "cell_type": "code",
   "execution_count": 4,
   "id": "97f75f4e",
   "metadata": {},
   "outputs": [],
   "source": [
    "def main():\n",
    "    choice = 0\n",
    "    while choice != 4:\n",
    "        print(\"\\n********* MAIN MENU *********\")\n",
    "        print(\"1. Input Marks\")\n",
    "        print(\"2. Sort Marks in Ascending order\")\n",
    "        print(\"3. Sreach for a Mark in list\")\n",
    "        print(\"4. Exit\")\n",
    "        print(\"*****************************\\n\")\n",
    "        choice = eval(input(\"Enter your choice: \"))\n",
    "        if choice == 1:\n",
    "            input_marks()\n",
    "        elif choice == 2:\n",
    "            sort(a, n)\n",
    "        elif choice == 3:\n",
    "            search(a, n)\n",
    "        elif choice == 4:\n",
    "            print(\"Ending the program!\")"
   ]
  },
  {
   "cell_type": "code",
   "execution_count": 5,
   "id": "7f1de719",
   "metadata": {},
   "outputs": [
    {
     "name": "stdout",
     "output_type": "stream",
     "text": [
      "\n",
      "********* MAIN MENU *********\n",
      "1. Input Marks\n",
      "2. Sort Marks in Ascending order\n",
      "3. Sreach for a Mark in list\n",
      "4. Exit\n",
      "*****************************\n",
      "\n",
      "Enter your choice: 1\n",
      "Enter no. of students: 10\n",
      "Enter 10 marks one by one: \n",
      "Enter mark 1: 100\n",
      "Enter mark 2: 67\n",
      "Enter mark 3: 49\n",
      "Enter mark 4: 27\n",
      "Enter mark 5: 33\n",
      "Enter mark 6: 99\n",
      "Enter mark 7: 88\n",
      "Enter mark 8: 76\n",
      "Enter mark 9: 49\n",
      "Enter mark 10: 95\n",
      "The original list is: [100, 67, 49, 27, 33, 99, 88, 76, 49, 95]\n",
      "\n",
      "********* MAIN MENU *********\n",
      "1. Input Marks\n",
      "2. Sort Marks in Ascending order\n",
      "3. Sreach for a Mark in list\n",
      "4. Exit\n",
      "*****************************\n",
      "\n",
      "Enter your choice: 3\n",
      "Enter mark to be searched: 49\n",
      "49 is found in list at position 3\n",
      "49 is found in list at position 9\n",
      "\n",
      "********* MAIN MENU *********\n",
      "1. Input Marks\n",
      "2. Sort Marks in Ascending order\n",
      "3. Sreach for a Mark in list\n",
      "4. Exit\n",
      "*****************************\n",
      "\n",
      "Enter your choice: 3\n",
      "Enter mark to be searched: 22\n",
      "\n",
      "********* MAIN MENU *********\n",
      "1. Input Marks\n",
      "2. Sort Marks in Ascending order\n",
      "3. Sreach for a Mark in list\n",
      "4. Exit\n",
      "*****************************\n",
      "\n",
      "Enter your choice: 2\n",
      "The sorted list is [27, 33, 49, 49, 67, 76, 88, 95, 99, 100]\n",
      "\n",
      "********* MAIN MENU *********\n",
      "1. Input Marks\n",
      "2. Sort Marks in Ascending order\n",
      "3. Sreach for a Mark in list\n",
      "4. Exit\n",
      "*****************************\n",
      "\n",
      "Enter your choice: 4\n",
      "Ending the program!\n"
     ]
    }
   ],
   "source": [
    "main()"
   ]
  }
 ],
 "metadata": {
  "kernelspec": {
   "display_name": "Python 3",
   "language": "python",
   "name": "python3"
  },
  "language_info": {
   "codemirror_mode": {
    "name": "ipython",
    "version": 3
   },
   "file_extension": ".py",
   "mimetype": "text/x-python",
   "name": "python",
   "nbconvert_exporter": "python",
   "pygments_lexer": "ipython3",
   "version": "3.8.8"
  },
  "latex_envs": {
   "LaTeX_envs_menu_present": true,
   "autoclose": false,
   "autocomplete": true,
   "bibliofile": "biblio.bib",
   "cite_by": "apalike",
   "current_citInitial": 1,
   "eqLabelWithNumbers": true,
   "eqNumInitial": 1,
   "hotkeys": {
    "equation": "Ctrl-E",
    "itemize": "Ctrl-I"
   },
   "labels_anchors": false,
   "latex_user_defs": false,
   "report_style_numbering": false,
   "user_envs_cfg": false
  },
  "toc": {
   "base_numbering": 1,
   "nav_menu": {},
   "number_sections": true,
   "sideBar": true,
   "skip_h1_title": false,
   "title_cell": "Table of Contents",
   "title_sidebar": "Contents",
   "toc_cell": false,
   "toc_position": {},
   "toc_section_display": true,
   "toc_window_display": false
  },
  "varInspector": {
   "cols": {
    "lenName": 16,
    "lenType": 16,
    "lenVar": 40
   },
   "kernels_config": {
    "python": {
     "delete_cmd_postfix": "",
     "delete_cmd_prefix": "del ",
     "library": "var_list.py",
     "varRefreshCmd": "print(var_dic_list())"
    },
    "r": {
     "delete_cmd_postfix": ") ",
     "delete_cmd_prefix": "rm(",
     "library": "var_list.r",
     "varRefreshCmd": "cat(var_dic_list()) "
    }
   },
   "types_to_exclude": [
    "module",
    "function",
    "builtin_function_or_method",
    "instance",
    "_Feature"
   ],
   "window_display": false
  }
 },
 "nbformat": 4,
 "nbformat_minor": 5
}
