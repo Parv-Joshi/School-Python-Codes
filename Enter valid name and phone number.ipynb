{
 "cells": [
  {
   "cell_type": "markdown",
   "id": "0a32283f",
   "metadata": {},
   "source": [
    "###### Excercise. Create a program (without using try and except clauses) that asks a users for their first name, last name, and phone numbers, and checks is the the given inputs are in valid format. If they are in valid format, display the person's full name and phone number, else ask them to re-enter a valid name/number. (Give the user a maximum of 9999 tries to re-enter)."
   ]
  },
  {
   "cell_type": "code",
   "execution_count": 1,
   "id": "1a1b50e8",
   "metadata": {},
   "outputs": [
    {
     "name": "stdout",
     "output_type": "stream",
     "text": [
      "Enter your first name: kd839oi\n",
      "\n",
      "Invalid Input! Please try again!\n",
      "Enter your first name: Parv\n",
      "\n",
      "\n",
      "Enter your last name: 3j89wi\n",
      "\n",
      "Invalid Input! Please try again!\n",
      "Enter your last name: Joshi\n",
      "\n",
      "\n",
      "Enter your phone no. (10-digit): n38iew\n",
      "\n",
      "Invalid Input! Please try again!\n",
      "Enter your phone no. (10-digit): 123456790\n",
      "\n",
      "Invalid Input! Please try again!\n",
      "Enter your phone no. (10-digit): 1234567890\n",
      "\n",
      "\n",
      "The phone number of Parv Joshi is 1234567890\n"
     ]
    }
   ],
   "source": [
    "fname = input(\"Enter your first name: \")\n",
    "for i in range(9999):\n",
    "    if fname.isalpha():\n",
    "        break\n",
    "    else:\n",
    "        print(\"\\nInvalid Input! Please try again!\")\n",
    "        fname = input(\"Enter your first name: \")\n",
    "\n",
    "print(\"\\n\")\n",
    "lname = input(\"Enter your last name: \")\n",
    "for j in range(9999):\n",
    "    if lname.isalpha():\n",
    "        break\n",
    "    else:\n",
    "        print(\"\\nInvalid Input! Please try again!\")\n",
    "        lname = input(\"Enter your last name: \")\n",
    "\n",
    "print(\"\\n\")\n",
    "phone = input(\"Enter your phone no. (10-digit): \")\n",
    "for h in range(9999):\n",
    "    if phone.isdigit() and len(phone) == 10:\n",
    "        break\n",
    "    else:\n",
    "        print(\"\\nInvalid Input! Please try again!\")\n",
    "        phone = input(\"Enter your phone no. (10-digit): \")\n",
    "\n",
    "print(\"\\n\\nThe phone number of\", fname, lname, \"is\", phone)"
   ]
  }
 ],
 "metadata": {
  "kernelspec": {
   "display_name": "Python 3",
   "language": "python",
   "name": "python3"
  },
  "language_info": {
   "codemirror_mode": {
    "name": "ipython",
    "version": 3
   },
   "file_extension": ".py",
   "mimetype": "text/x-python",
   "name": "python",
   "nbconvert_exporter": "python",
   "pygments_lexer": "ipython3",
   "version": "3.8.8"
  },
  "latex_envs": {
   "LaTeX_envs_menu_present": true,
   "autoclose": false,
   "autocomplete": true,
   "bibliofile": "biblio.bib",
   "cite_by": "apalike",
   "current_citInitial": 1,
   "eqLabelWithNumbers": true,
   "eqNumInitial": 1,
   "hotkeys": {
    "equation": "Ctrl-E",
    "itemize": "Ctrl-I"
   },
   "labels_anchors": false,
   "latex_user_defs": false,
   "report_style_numbering": false,
   "user_envs_cfg": false
  },
  "toc": {
   "base_numbering": 1,
   "nav_menu": {},
   "number_sections": true,
   "sideBar": true,
   "skip_h1_title": false,
   "title_cell": "Table of Contents",
   "title_sidebar": "Contents",
   "toc_cell": false,
   "toc_position": {},
   "toc_section_display": true,
   "toc_window_display": false
  },
  "varInspector": {
   "cols": {
    "lenName": 16,
    "lenType": 16,
    "lenVar": 40
   },
   "kernels_config": {
    "python": {
     "delete_cmd_postfix": "",
     "delete_cmd_prefix": "del ",
     "library": "var_list.py",
     "varRefreshCmd": "print(var_dic_list())"
    },
    "r": {
     "delete_cmd_postfix": ") ",
     "delete_cmd_prefix": "rm(",
     "library": "var_list.r",
     "varRefreshCmd": "cat(var_dic_list()) "
    }
   },
   "types_to_exclude": [
    "module",
    "function",
    "builtin_function_or_method",
    "instance",
    "_Feature"
   ],
   "window_display": false
  }
 },
 "nbformat": 4,
 "nbformat_minor": 5
}
